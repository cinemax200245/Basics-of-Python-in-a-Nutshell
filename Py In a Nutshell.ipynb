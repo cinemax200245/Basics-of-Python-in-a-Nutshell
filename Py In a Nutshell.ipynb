{
 "cells": [
  {
   "cell_type": "markdown",
   "id": "809ee951",
   "metadata": {},
   "source": [
    "**Positive or Negative**"
   ]
  },
  {
   "cell_type": "code",
   "execution_count": null,
   "id": "4efda883",
   "metadata": {},
   "outputs": [],
   "source": [
    "num=int(input(\"Enter your Number : \"))\n",
    "if(num>0):\n",
    "    print(\"Positive\")\n",
    "elif(num<0):\n",
    "    print(\"Negative\")\n",
    "else:\n",
    "    print(\"Zero\")"
   ]
  },
  {
   "cell_type": "markdown",
   "id": "e8f407e4",
   "metadata": {},
   "source": [
    "**Even or Odd**"
   ]
  },
  {
   "cell_type": "code",
   "execution_count": null,
   "id": "bce4e6df",
   "metadata": {},
   "outputs": [],
   "source": [
    "num=int(input(\"Enter your Number : \"))\n",
    "if(num%2==0):\n",
    "    print(\"Even\")\n",
    "else:\n",
    "    print(\"Odd\")"
   ]
  },
  {
   "cell_type": "markdown",
   "id": "1da2d34c",
   "metadata": {},
   "source": [
    "**Sum of N numbers**"
   ]
  },
  {
   "cell_type": "code",
   "execution_count": null,
   "id": "02e08188",
   "metadata": {},
   "outputs": [],
   "source": [
    "num=int(input(\"Enter your Range : \"))\n",
    "sum=0\n",
    "for x in range(0,num+1):\n",
    "    sum=sum+x\n",
    "print(sum)"
   ]
  },
  {
   "cell_type": "markdown",
   "id": "fe887dbb",
   "metadata": {},
   "source": [
    "**Largest Among Two**"
   ]
  },
  {
   "cell_type": "code",
   "execution_count": null,
   "id": "30f3b748",
   "metadata": {},
   "outputs": [],
   "source": [
    "num1=int(input(\"Enter your Number 1 : \"))\n",
    "num2=int(input(\"Enter your Number 2 : \"))\n",
    "if(num1>num2):\n",
    "    print(num1)\n",
    "else:\n",
    "    print(num2)"
   ]
  },
  {
   "cell_type": "markdown",
   "id": "503f4a37",
   "metadata": {},
   "source": [
    "**Largest Among Three**"
   ]
  },
  {
   "cell_type": "code",
   "execution_count": null,
   "id": "66cc2a0b",
   "metadata": {},
   "outputs": [],
   "source": [
    "num1 = int(input(\"Enter your Number 1: \"))\n",
    "num2 = int(input(\"Enter your Number 2: \"))\n",
    "num3 = int(input(\"Enter your Number 3: \"))\n",
    "if num1 > num2:\n",
    "    if num1 > num3:\n",
    "        print(\"Largest number:\", num1)\n",
    "    else:\n",
    "        print(\"Largest number:\", num3)\n",
    "else:\n",
    "    if num2 > num3:\n",
    "        print(\"Largest number:\", num2)\n",
    "    else:\n",
    "        print(\"Largest number:\", num3)\n"
   ]
  },
  {
   "cell_type": "markdown",
   "id": "51a2dcab",
   "metadata": {},
   "source": [
    "**LeapYear**"
   ]
  },
  {
   "cell_type": "code",
   "execution_count": null,
   "id": "ec2a5cf1",
   "metadata": {},
   "outputs": [],
   "source": [
    "year = int(input(\"Enter your Year : \"))\n",
    "if (year%400 == 0) or (year%4==0 and year%100!=0):\n",
    "    print(\"Leap Year\")\n",
    "else:\n",
    "    print(\"No Leaps\")"
   ]
  },
  {
   "cell_type": "markdown",
   "id": "412bf5b9",
   "metadata": {},
   "source": [
    "**Prime number**"
   ]
  },
  {
   "cell_type": "code",
   "execution_count": null,
   "id": "c1c15472",
   "metadata": {},
   "outputs": [],
   "source": [
    "num = int((input(\"Enter your Number: \")))  # Convert input to integer\n",
    "flag = 0\n",
    "if num<2:\n",
    "    flag = 1\n",
    "else:\n",
    "    for i in range(2,int((num/2)+1)):\n",
    "        if num%i==0:\n",
    "            flag = 1\n",
    "            break\n",
    "\n",
    "if flag == 1:\n",
    "    print('Not Prime')\n",
    "else:\n",
    "    print(\"Prime\")"
   ]
  },
  {
   "cell_type": "markdown",
   "id": "be210ed0",
   "metadata": {},
   "source": [
    "**Prime number within a given range**"
   ]
  },
  {
   "cell_type": "code",
   "execution_count": null,
   "id": "590929bc",
   "metadata": {},
   "outputs": [],
   "source": [
    "num1 = int(input(\"Enter your Number 1: \"))\n",
    "num2 = int(input(\"Enter your Number 2: \"))\n",
    "primeArray = []\n",
    "\n",
    "def is_prime(num):\n",
    "    flag = 0\n",
    "    if num < 2:\n",
    "        flag = 1\n",
    "    else:\n",
    "        for i in range(2, int((num/2) + 1)):\n",
    "            if num % i == 0:\n",
    "                flag = 1\n",
    "                break\n",
    "    return flag == 0\n",
    "\n",
    "for i in range(num1, num2 + 1):\n",
    "    if is_prime(i):\n",
    "        primeArray.append(i)\n",
    "\n",
    "print(primeArray)"
   ]
  },
  {
   "cell_type": "markdown",
   "id": "55008823",
   "metadata": {},
   "source": [
    "**Sum of digits of a number**"
   ]
  },
  {
   "cell_type": "code",
   "execution_count": null,
   "id": "89bab203",
   "metadata": {},
   "outputs": [],
   "source": [
    "num= int((input(\"Enter your Number : \")))\n",
    "sum=0\n",
    "while num!=0:\n",
    "    digit=num%10\n",
    "    sum=sum+digit\n",
    "    num=num//10\n",
    "print(sum)"
   ]
  },
  {
   "cell_type": "markdown",
   "id": "3003b956",
   "metadata": {},
   "source": [
    "**Reverse of a number**"
   ]
  },
  {
   "cell_type": "code",
   "execution_count": null,
   "id": "74b56913",
   "metadata": {},
   "outputs": [],
   "source": [
    "num= int((input(\"Enter your Number : \")))\n",
    "sum=0\n",
    "while num!=0:\n",
    "    digit=num%10\n",
    "    sum=sum*10+digit\n",
    "    num=num//10\n",
    "print(sum)"
   ]
  },
  {
   "cell_type": "markdown",
   "id": "3e808364",
   "metadata": {},
   "source": [
    "**Palindrome number**"
   ]
  },
  {
   "cell_type": "code",
   "execution_count": null,
   "id": "0785572a",
   "metadata": {},
   "outputs": [],
   "source": [
    "num= int((input(\"Enter your Number : \")))\n",
    "sum=0\n",
    "while num!=0:\n",
    "    digit=num%10\n",
    "    sum=sum*10+digit\n",
    "    num=num//10\n",
    "print('Reverse : ',sum)\n",
    "if(sum==num):\n",
    "    print('Palindrome Number ')"
   ]
  },
  {
   "cell_type": "markdown",
   "id": "bfe8b955",
   "metadata": {},
   "source": [
    "**Armstrong number**"
   ]
  },
  {
   "cell_type": "code",
   "execution_count": null,
   "id": "8d941caf",
   "metadata": {},
   "outputs": [],
   "source": [
    "num = int(input(\"Enter your Number: \"))\n",
    "original_num = num  # Store the original number to compare later\n",
    "sum = 0\n",
    "digitCount = len(str(num))\n",
    "\n",
    "while num != 0:\n",
    "    digit = num % 10\n",
    "    sum += pow(digit, digitCount)\n",
    "    num = num // 10\n",
    "\n",
    "if sum == original_num:\n",
    "    print(\"Armstrong\")\n",
    "else:\n",
    "    print(\"Not Armstrong\")"
   ]
  },
  {
   "cell_type": "markdown",
   "id": "86dd72ca",
   "metadata": {},
   "source": [
    "**Armstrong number in a given range**"
   ]
  },
  {
   "cell_type": "code",
   "execution_count": null,
   "id": "09da3405",
   "metadata": {},
   "outputs": [],
   "source": [
    "num1 = int((input(\"Enter your Number 1 : \")))\n",
    "num2 = int((input(\"Enter your Number 2 : \")))\n",
    "armArray=[]\n",
    "def is_arm(num):\n",
    "    original_num = num  # Store the original number to compare later\n",
    "    sum = 0\n",
    "    digitCount = len(str(num))\n",
    "    while num != 0:\n",
    "        digit = num % 10\n",
    "        sum += pow(digit, digitCount)\n",
    "        num = num // 10\n",
    "    if sum == original_num:\n",
    "        armArray.append(sum)\n",
    "for i in range (num1,num2+1):\n",
    "    is_arm(i)\n",
    "print(armArray)"
   ]
  },
  {
   "cell_type": "markdown",
   "id": "d9bbfd9d",
   "metadata": {},
   "source": [
    "**Fibonacci Series upto nth term**"
   ]
  },
  {
   "cell_type": "code",
   "execution_count": null,
   "id": "05b1d63f",
   "metadata": {},
   "outputs": [],
   "source": [
    "num = int((input(\"Enter your Number : \")))\n",
    "fibArr=[0,1]\n",
    "sum=0\n",
    "a=0\n",
    "b=1\n",
    "for i in range(2,num):\n",
    "    sum=a+b\n",
    "    a=b\n",
    "    b=sum\n",
    "    fibArr.append(sum)\n",
    "print(fibArr)"
   ]
  },
  {
   "cell_type": "code",
   "execution_count": null,
   "id": "95855d73",
   "metadata": {},
   "outputs": [],
   "source": [
    "num = int(input(\"Enter your Number : \"))\n",
    "fibArr = [0, 1]\n",
    "\n",
    "for i in range(2, num):\n",
    "    next_fib = fibArr[-1] + fibArr[-2]\n",
    "    fibArr.append(next_fib)\n",
    "\n",
    "print(fibArr)"
   ]
  },
  {
   "cell_type": "markdown",
   "id": "7e3dd981",
   "metadata": {},
   "source": [
    "**Find the Nth Term of the Fibonacci Series**"
   ]
  },
  {
   "cell_type": "code",
   "execution_count": null,
   "id": "6cffcf3e",
   "metadata": {},
   "outputs": [],
   "source": [
    "num = int(input(\"Enter your Number : \"))\n",
    "fibArr = [0, 1]\n",
    "for i in range(2, num):\n",
    "    next_fib = fibArr[-1] + fibArr[-2]\n",
    "    fibArr.append(next_fib)\n",
    "quant=int(input('Enter the Nth Loc : '))\n",
    "print(fibArr[quant-1])"
   ]
  },
  {
   "cell_type": "markdown",
   "id": "dba971d8",
   "metadata": {},
   "source": [
    "**Factorial of a number**"
   ]
  },
  {
   "cell_type": "code",
   "execution_count": null,
   "id": "78da5e9e",
   "metadata": {},
   "outputs": [],
   "source": [
    "num = int(input(\"Enter your Number : \"))\n",
    "sum=1\n",
    "for i in range(1,num+1):\n",
    "    sum=sum*i\n",
    "print('Factorial of',num,'! is ',sum)"
   ]
  },
  {
   "cell_type": "markdown",
   "id": "fb0bf2b6",
   "metadata": {},
   "source": [
    "**Power of a number**"
   ]
  },
  {
   "cell_type": "code",
   "execution_count": null,
   "id": "60a25602",
   "metadata": {},
   "outputs": [],
   "source": [
    "num = int(input(\"Enter your Number : \"))\n",
    "sum=num\n",
    "power = int(input(\"Enter your Power : \"))\n",
    "if(power==0):\n",
    "    print('PoweredUp :',1)\n",
    "elif(power==1):\n",
    "    print('PoweredUp :',num)\n",
    "else:\n",
    "    for i in range(2,power+1):\n",
    "        sum=sum*num\n",
    "    print('PoweredUp :',sum)"
   ]
  },
  {
   "cell_type": "markdown",
   "id": "7a66bdb3",
   "metadata": {},
   "source": [
    "**Factor of a number**"
   ]
  },
  {
   "cell_type": "code",
   "execution_count": null,
   "id": "10cc2a4d",
   "metadata": {},
   "outputs": [],
   "source": [
    "num = int(input(\"Enter your Number : \"))\n",
    "factorArray=[]\n",
    "for i in range (1,num+1):\n",
    "    if(num%i==0):\n",
    "        factorArray.append(i)\n",
    "print(\"Factors :\",factorArray)"
   ]
  },
  {
   "cell_type": "markdown",
   "id": "10a8e296",
   "metadata": {},
   "source": [
    "**Finding Prime Factors of a number**"
   ]
  },
  {
   "cell_type": "code",
   "execution_count": null,
   "id": "46bc2c27",
   "metadata": {},
   "outputs": [],
   "source": [
    "from sympy import isprime\n",
    "num = int(input(\"Enter your Number : \"))\n",
    "factorArray=[]\n",
    "for i in range (1,num+1):\n",
    "    if(num%i==0):\n",
    "        if (isprime(i)==True):\n",
    "            factorArray.append(i)\n",
    "print(\"Factors :\",factorArray)\n",
    "#or just use isPrime Function"
   ]
  },
  {
   "cell_type": "markdown",
   "id": "251e07cc",
   "metadata": {},
   "source": [
    "**Strong Number**\n",
    "$$ 145 = 1! + 4! + 5! $$"
   ]
  },
  {
   "cell_type": "code",
   "execution_count": null,
   "id": "01fe4e5e",
   "metadata": {},
   "outputs": [],
   "source": [
    "num = int(input(\"Enter the Number : \"))\n",
    "origNum = num\n",
    "sum1 = 0\n",
    "\n",
    "def factorial(num):\n",
    "    product = 1\n",
    "    for i in range(1, num + 1):\n",
    "        product *= i\n",
    "    return product\n",
    "\n",
    "# Extracting digits\n",
    "while num != 0:\n",
    "    digit = num % 10\n",
    "    sum1 += factorial(digit)\n",
    "    num = num // 10\n",
    "\n",
    "print('Finding Strong or Not : ', sum1)\n",
    "\n",
    "if sum1 == origNum:\n",
    "    print('Strong Number')\n",
    "else:\n",
    "    print(\"Not Strong Number\")"
   ]
  },
  {
   "cell_type": "markdown",
   "id": "7f7b7cd9",
   "metadata": {},
   "source": [
    "**Perfect number** : 6 = 1+2+3 or 28 = 1+2+4+7+14"
   ]
  },
  {
   "cell_type": "code",
   "execution_count": null,
   "id": "4be319f4",
   "metadata": {},
   "outputs": [],
   "source": [
    "from sympy import isprime\n",
    "\n",
    "num = int(input(\"Enter the Number: \"))\n",
    "origNum = num\n",
    "\n",
    "def ffactors(num):\n",
    "    factorArray = []\n",
    "    for i in range(1, num):\n",
    "        if num % i == 0:\n",
    "            factorArray.append(i)\n",
    "    return factorArray\n",
    "\n",
    "print(ffactors(num))\n",
    "factors = ffactors(num)\n",
    "\n",
    "factor_sum = 0\n",
    "for x in factors:\n",
    "    factor_sum += x\n",
    "\n",
    "result = factor_sum\n",
    "print(result)"
   ]
  },
  {
   "cell_type": "markdown",
   "id": "30737444",
   "metadata": {},
   "source": [
    "**Automorphic Number** : $$ power(76,2)=57(76) , power(376,2)=141(376)$$"
   ]
  },
  {
   "cell_type": "code",
   "execution_count": null,
   "id": "0c33cf5f",
   "metadata": {},
   "outputs": [],
   "source": [
    "num = int(input(\"Enter the Number: \"))\n",
    "origNum = num\n",
    "powerx=pow(num,2)\n",
    "print(powerx)\n",
    "digCount=len(str(num))\n",
    "print('Digit Count : ',digCount)\n",
    "if str(powerx)[-digCount:] == str(num):\n",
    "    print('Automorphic Number')\n",
    "else:\n",
    "    print('Non Automorphic')"
   ]
  },
  {
   "cell_type": "markdown",
   "id": "514a5f44",
   "metadata": {},
   "source": [
    "**Decimal To Binary**"
   ]
  },
  {
   "cell_type": "code",
   "execution_count": null,
   "id": "431f17f9",
   "metadata": {},
   "outputs": [],
   "source": [
    "decimal_num=int(input(\"Enter the Decimal Number : \"))\n",
    "binary_representation = \"\"\n",
    "while decimal_num > 0:\n",
    "    remainder = decimal_num % 2\n",
    "    binary_representation = str(remainder) + binary_representation\n",
    "    decimal_num //= 2\n",
    "print(\"Binary Representation : \",binary_representation)"
   ]
  },
  {
   "cell_type": "markdown",
   "id": "2a1fe86a",
   "metadata": {},
   "source": [
    "**Binary to Decimal**"
   ]
  },
  {
   "cell_type": "code",
   "execution_count": null,
   "id": "d473c137",
   "metadata": {},
   "outputs": [],
   "source": [
    "binaryNum=input(\"Enter the Binary Number: \")\n",
    "deciNum=0\n",
    "digitCount=len(binaryNum)\n",
    "for i in range(digitCount):\n",
    "    binary_digit=int(binaryNum[digitCount-i-1])  # Read digits in reverse order\n",
    "    deciNum+=binary_digit*pow(2,i)\n",
    "print(\"The decimal Form:\", deciNum)"
   ]
  },
  {
   "cell_type": "markdown",
   "id": "c3d7652e",
   "metadata": {},
   "source": [
    "**Decimal To Octal**"
   ]
  },
  {
   "cell_type": "code",
   "execution_count": null,
   "id": "33eb82a9",
   "metadata": {},
   "outputs": [],
   "source": [
    "decimal_num=int(input(\"Enter the Decimal Number : \"))\n",
    "octal_representation = \"\"\n",
    "while decimal_num > 0:\n",
    "    remainder = decimal_num % 8\n",
    "    octal_representation = str(remainder) + octal_representation\n",
    "    decimal_num //= 8\n",
    "print(\"Octal Representation : \",octal_representation)"
   ]
  },
  {
   "cell_type": "markdown",
   "id": "5cd9fcd3",
   "metadata": {},
   "source": [
    "**Octal To Decimal**"
   ]
  },
  {
   "cell_type": "code",
   "execution_count": null,
   "id": "94c218df",
   "metadata": {},
   "outputs": [],
   "source": [
    "octalNum=input(\"Enter the Octal Number: \")\n",
    "deciNum=0\n",
    "digitCount=len(octalNum)\n",
    "for i in range(digitCount):\n",
    "    octal_digit=int(octalNum[digitCount-i-1])  # Read digits in reverse order\n",
    "    deciNum+=octal_digit*pow(8,i)\n",
    "print(\"The decimal Form:\", deciNum)"
   ]
  },
  {
   "cell_type": "markdown",
   "id": "7ed593e3",
   "metadata": {},
   "source": [
    "**Decimal to Hex**"
   ]
  },
  {
   "cell_type": "code",
   "execution_count": null,
   "id": "5f5ed11c",
   "metadata": {},
   "outputs": [],
   "source": [
    "deciNum=int(input(\"Enter the Decimal Number: \"))\n",
    "hexNum=[]\n",
    "while deciNum > 0:\n",
    "    remainder = deciNum % 16\n",
    "    if(remainder<10):\n",
    "        hexNum.append(chr(remainder+48))\n",
    "    else:\n",
    "        hexNum.append(chr(remainder+55))\n",
    "    deciNum//=16\n",
    "hexNum.reverse()\n",
    "hexadecimalRepresentation = ''.join(hexNum)\n",
    "print(\"The Hex Form:\", hexadecimalRepresentation)"
   ]
  },
  {
   "cell_type": "markdown",
   "id": "318f5575",
   "metadata": {},
   "source": [
    "**Permutations in which n people can occupy r seats in a classroom** </br>\n",
    "$$\n",
    "nPr = \\frac{n!}{(n-r)!}\n",
    "$$\n"
   ]
  },
  {
   "cell_type": "code",
   "execution_count": null,
   "id": "edc4b4a6",
   "metadata": {},
   "outputs": [],
   "source": [
    "seats=int(input('Enter the number of Seats : '))\n",
    "studs=int(input('Enter the number of Students : '))\n",
    "def factorialX(num):\n",
    "    prod=1\n",
    "    for i in range (1,num+1):\n",
    "        prod*=i\n",
    "    return prod\n",
    "permutation=factorialX(studs)/(factorialX(studs-seats))\n",
    "print(\"Available Combinations is : \",permutation)"
   ]
  },
  {
   "cell_type": "markdown",
   "id": "ed698567",
   "metadata": {},
   "source": [
    "**Maximum number of handshakes**\n",
    "$$\n",
    "Handshake Count = \\frac{N(n-1)}{2}\n",
    "$$"
   ]
  },
  {
   "cell_type": "code",
   "execution_count": null,
   "id": "2ac51142",
   "metadata": {},
   "outputs": [],
   "source": [
    "studs=int(input('Enter the number of Students : '))\n",
    "print(\"Handshake Count = \", studs*(studs-1)/2)"
   ]
  },
  {
   "cell_type": "markdown",
   "id": "35515cf0",
   "metadata": {},
   "source": [
    "**Addition of two fractions**\n",
    "$$\n",
    "Fraction Add = \\frac{a}{b} + \\frac{c}{d}\n",
    "$$"
   ]
  },
  {
   "cell_type": "code",
   "execution_count": null,
   "id": "3daedc07",
   "metadata": {},
   "outputs": [],
   "source": [
    "f1_nume = int(input('Enter the numerator for 1st fraction :'))\n",
    "f1_deno = int(input('Enter the denominator for the 1st fraction :'))\n",
    "f2_nume = int(input('Enter the numerator for 2nd fraction :'))\n",
    "f2_deno = int(input('Enter the denominator for the 2nd fraction :'))\n",
    "#check if denominators are same\n",
    "if(f1_deno == f2_deno):\n",
    "    Fraction1 = f1_nume + f2_nume\n",
    "    print('Addition of two fractions are :',Fraction1 ,'/',(f1_deno))\n",
    "else:\n",
    "    Fraction2 = (f1_nume * f2_deno) + (f2_nume * f1_deno)\n",
    "    print('Addition of fractions are :',(Fraction2),'/', (f1_deno * f2_deno))"
   ]
  },
  {
   "cell_type": "markdown",
   "id": "566bd0a7",
   "metadata": {},
   "source": [
    "**Number to Word Formation**"
   ]
  },
  {
   "cell_type": "code",
   "execution_count": null,
   "id": "93612125",
   "metadata": {},
   "outputs": [],
   "source": [
    "!pip install num2words"
   ]
  },
  {
   "cell_type": "code",
   "execution_count": null,
   "id": "d0c0c46e",
   "metadata": {},
   "outputs": [],
   "source": [
    "from num2words import num2words\n",
    "# Most common usage.\n",
    "print(num2words(11098))\n",
    "# can also specify this for -th format\n",
    "print(num2words(145588, to='ordinal'))"
   ]
  },
  {
   "cell_type": "code",
   "execution_count": null,
   "id": "760d4707",
   "metadata": {},
   "outputs": [],
   "source": [
    "def number_to_words(number):\n",
    "    ones = ['Zero', 'One', 'Two', 'Three', 'Four', 'Five', 'Six', 'Seven', 'Eight', 'Nine']\n",
    "    tens = ['', 'Ten', 'Twenty', 'Thirty', 'Forty', 'Fifty', 'Sixty', 'Seventy', 'Eighty', 'Ninety']\n",
    "    teens = ['Eleven', 'Twelve', 'Thirteen', 'Fourteen', 'Fifteen', 'Sixteen', 'Seventeen', 'Eighteen', 'Nineteen']\n",
    "\n",
    "    if number == 0:\n",
    "        return ones[number]\n",
    "\n",
    "    words = []\n",
    "    if number // 1000:\n",
    "        words.append(number_to_words(number // 1000))\n",
    "        words.append('Thousand')\n",
    "        number %= 1000\n",
    "\n",
    "    if number // 100:\n",
    "        words.append(ones[number // 100])\n",
    "        words.append('Hundred')\n",
    "        number %= 100\n",
    "\n",
    "    if 10 <= number < 20:\n",
    "        words.append(teens[number - 11])\n",
    "    else:\n",
    "        if number // 10:\n",
    "            words.append(tens[number // 10])\n",
    "            number %= 10\n",
    "\n",
    "        if number:\n",
    "            words.append(ones[number])\n",
    "\n",
    "    return ' '.join(words)\n",
    "\n",
    "number = int(input(\"Enter a number: \"))\n",
    "word_representation = number_to_words(number)\n",
    "print(\"Word representation:\", word_representation)"
   ]
  },
  {
   "cell_type": "markdown",
   "id": "66197785",
   "metadata": {},
   "source": [
    "**Check whether a character is a vowel or consonant**"
   ]
  },
  {
   "cell_type": "code",
   "execution_count": null,
   "id": "e34cb423",
   "metadata": {},
   "outputs": [],
   "source": [
    "inpChar=input('Enter only a Character : ')\n",
    "inpChar=inpChar.lower()\n",
    "if(inpChar=='a' or inpChar=='e' or inpChar=='i' or inpChar=='o' or inpChar=='u'):\n",
    "    print('Vowel')\n",
    "else:\n",
    "    print('Consonant')"
   ]
  },
  {
   "cell_type": "markdown",
   "id": "39c404e0",
   "metadata": {},
   "source": [
    "**Find the ASCII value of a character**\n",
    "$$ Alphabets (  65 – 90  &  97 – 122  )\n",
    "Digits (  48 – 57  ) $$"
   ]
  },
  {
   "cell_type": "code",
   "execution_count": null,
   "id": "4432a3c6",
   "metadata": {},
   "outputs": [],
   "source": [
    "inpChar=input('Enter only a Character : ')\n",
    "print('ASCII Value of A Character is : ',ord(inpChar))"
   ]
  },
  {
   "cell_type": "markdown",
   "id": "ed0786d2",
   "metadata": {},
   "source": [
    "**Length of String without using Strlen() and Also count the Vowels Present**"
   ]
  },
  {
   "cell_type": "code",
   "execution_count": null,
   "id": "74668c59",
   "metadata": {},
   "outputs": [],
   "source": [
    "inpString=input('Enter String : ')\n",
    "count=0\n",
    "MinusSpacecount=0\n",
    "vowelCount=0\n",
    "vowels='aeiouAEIOU'\n",
    "for i in inpString:\n",
    "    if(i!=' '):\n",
    "        MinusSpacecount+=1\n",
    "    else:\n",
    "        count+=1\n",
    "    i=i.lower()\n",
    "    for j in vowels:\n",
    "        if(i==j):\n",
    "            vowelCount+=1\n",
    "print(\"Length of String : \",MinusSpacecount+count)\n",
    "print(\"Length of String Minus Spaces: \",MinusSpacecount)\n",
    "print(\"Vowel Count : \",vowelCount)"
   ]
  },
  {
   "cell_type": "code",
   "execution_count": null,
   "id": "cdad49e0",
   "metadata": {},
   "outputs": [],
   "source": [
    "inpString = input('Enter String: ')\n",
    "count = 0\n",
    "MinusSpacecount = 0\n",
    "vowelCount = 0\n",
    "vowels = 'aeiouAEIOU'\n",
    "\n",
    "for i in inpString:\n",
    "    if i != ' ':\n",
    "        MinusSpacecount += 1\n",
    "    else:\n",
    "        count += 1\n",
    "\n",
    "    i = i.lower()\n",
    "    for j in vowels:\n",
    "        if i == j:\n",
    "            vowelCount += 1\n",
    "\n",
    "print(\"Length of String:\", MinusSpacecount + count)\n",
    "print(\"Length of String Minus Spaces:\", MinusSpacecount)\n",
    "print(\"Vowel Count:\", vowelCount)"
   ]
  },
  {
   "cell_type": "markdown",
   "id": "c93daf03",
   "metadata": {},
   "source": [
    "**Find Largest element in an array**"
   ]
  },
  {
   "cell_type": "code",
   "execution_count": null,
   "id": "83e53bd1",
   "metadata": {},
   "outputs": [],
   "source": [
    "inpArray=[]\n",
    "for i in range (0,5):\n",
    "    num=int(input(\"Enter Value : \"))\n",
    "    inpArray.append(num)\n",
    "print(inpArray)\n",
    "largest=0\n",
    "for i in range(0,5):\n",
    "    if inpArray[i]>largest:\n",
    "        largest=inpArray[i]\n",
    "print('Largest Num : ',largest)"
   ]
  },
  {
   "cell_type": "markdown",
   "id": "8b140b76",
   "metadata": {},
   "source": [
    "**Find Smallest Element in an Array**"
   ]
  },
  {
   "cell_type": "code",
   "execution_count": null,
   "id": "d0a5288f",
   "metadata": {},
   "outputs": [],
   "source": [
    "inpArray=[]\n",
    "for i in range (0,5):\n",
    "    num=int(input(\"Enter Value : \"))\n",
    "    inpArray.append(num)\n",
    "print(inpArray)\n",
    "smallest=0\n",
    "for i in range(0,5):\n",
    "    if inpArray[i]<smallest:\n",
    "        smallest=inpArray[i]\n",
    "print('Smallest Num : ',smallest)"
   ]
  },
  {
   "cell_type": "markdown",
   "id": "f682a802",
   "metadata": {},
   "source": [
    "**Find the Smallest and largest element in an array**"
   ]
  },
  {
   "cell_type": "code",
   "execution_count": null,
   "id": "1a5b37bd",
   "metadata": {},
   "outputs": [],
   "source": [
    "inpArray=[]\n",
    "for i in range (0,5):\n",
    "    num=int(input(\"Enter Value : \"))\n",
    "    inpArray.append(num)\n",
    "print(inpArray)\n",
    "largest=0\n",
    "for i in range(0,5):\n",
    "    if inpArray[i]>largest:\n",
    "        largest=inpArray[i]\n",
    "smallest=0\n",
    "for i in range(0,5):\n",
    "    if inpArray[i]<smallest:\n",
    "        smallest=inpArray[i]\n",
    "print('Smallest Num : ',smallest)\n",
    "print('Largest Num : ',largest)"
   ]
  },
  {
   "cell_type": "markdown",
   "id": "8b2ac958",
   "metadata": {},
   "source": [
    "**Find Second Smallest Element in an Array**"
   ]
  },
  {
   "cell_type": "code",
   "execution_count": null,
   "id": "ff4d6ddd",
   "metadata": {},
   "outputs": [],
   "source": [
    "inpArray=[]\n",
    "for i in range (0,5):\n",
    "    num=int(input(\"Enter Value : \"))\n",
    "    inpArray.append(num)\n",
    "print(inpArray)\n",
    "inpArray.sort(reverse=True)\n",
    "print(inpArray[1])"
   ]
  },
  {
   "cell_type": "markdown",
   "id": "29857178",
   "metadata": {},
   "source": [
    "**Calculate the sum of elements in an array**"
   ]
  },
  {
   "cell_type": "code",
   "execution_count": null,
   "id": "24af2778",
   "metadata": {},
   "outputs": [],
   "source": [
    "inpArray=[]\n",
    "sum=0\n",
    "for i in range (0,5):\n",
    "    num=int(input(\"Enter Value : \"))\n",
    "    inpArray.append(num)\n",
    "    sum+=inpArray[i]\n",
    "print(inpArray)\n",
    "print('Sum : ',sum)"
   ]
  },
  {
   "cell_type": "markdown",
   "id": "a305f4ce",
   "metadata": {},
   "source": [
    "**Sort first half in ascending order and second half in descending**"
   ]
  },
  {
   "cell_type": "code",
   "execution_count": null,
   "id": "096c9195",
   "metadata": {},
   "outputs": [],
   "source": [
    "inpArray=[]\n",
    "asc=[]\n",
    "desc=[]\n",
    "comp=[]\n",
    "for i in range (0,10):\n",
    "    num=int(input(f\"Enter Value {i+1}: \"))\n",
    "    inpArray.append(num)\n",
    "print('The array is : ',inpArray)\n",
    "asc = inpArray[:5]  # Slice the first 5 elements for ascending order\n",
    "desc = inpArray[5:]\n",
    "asc.sort(reverse=False)\n",
    "desc.sort(reverse=True)\n",
    "comp=asc+desc\n",
    "print('True Array : ', comp)"
   ]
  },
  {
   "cell_type": "markdown",
   "id": "83bf5922",
   "metadata": {},
   "source": [
    "**Finding the frequency of elements in an array**"
   ]
  },
  {
   "cell_type": "code",
   "execution_count": null,
   "id": "27664fbe",
   "metadata": {},
   "outputs": [],
   "source": [
    "inpArray=[]\n",
    "freq_dict={}\n",
    "for i in range (0,10):\n",
    "    num=int(input(f\"Enter Value : {i+1} \"))\n",
    "    inpArray.append(num)\n",
    "    \n",
    "    if num in freq_dict:\n",
    "        freq_dict[num]+=1\n",
    "    else:\n",
    "        freq_dict[num]=1\n",
    "print('The Array : ',inpArray)\n",
    "for num,freq in freq_dict.items():\n",
    "    print(f\"{num}:{freq}\")"
   ]
  },
  {
   "cell_type": "markdown",
   "id": "b6c98336",
   "metadata": {},
   "source": [
    "**Sorting elements of an array by frequency**"
   ]
  },
  {
   "cell_type": "code",
   "execution_count": null,
   "id": "a07e8b05",
   "metadata": {},
   "outputs": [],
   "source": [
    "inpArray=[]\n",
    "freq_dict={}\n",
    "sortedArr=[]\n",
    "for i in range (0,10):\n",
    "    num=int(input(f\"Enter Value {i+1} :\"))\n",
    "    inpArray.append(num)\n",
    "    if num in freq_dict:\n",
    "        freq_dict[num]+=1\n",
    "    else:\n",
    "        freq_dict[num]=1\n",
    "print('The Array : ',inpArray)\n",
    "for num,freq in freq_dict.items():\n",
    "    print(f\"{num}:{freq}\")\n",
    "sorted_array = sorted(inpArray, key=lambda x: (freq_dict[x], x))\n",
    "print('Sorted Array by Frequency:', sorted_array)"
   ]
  },
  {
   "cell_type": "markdown",
   "id": "60a0e511",
   "metadata": {},
   "source": [
    "**Finding the Longest Palindrome in an Array**"
   ]
  },
  {
   "cell_type": "code",
   "execution_count": null,
   "id": "a62a013d",
   "metadata": {},
   "outputs": [],
   "source": [
    "def is_palindrome(s):\n",
    "    return s == s[::-1]\n",
    "\n",
    "inpArray = []\n",
    "\n",
    "for i in range(10):\n",
    "    num = int(input(f\"Enter Value {i+1}: \"))\n",
    "    inpArray.append(num)\n",
    "\n",
    "print('The Array:', inpArray)\n",
    "\n",
    "longest_palindrome = \"\"\n",
    "for i in range(len(inpArray)):\n",
    "    for j in range(i, len(inpArray)):\n",
    "        sub_array = inpArray[i:j+1]\n",
    "        sub_array_str = \"\".join(map(str, sub_array))\n",
    "        \n",
    "        if is_palindrome(sub_array_str) and len(sub_array_str) > len(longest_palindrome):\n",
    "            longest_palindrome = sub_array_str\n",
    "\n",
    "if longest_palindrome:\n",
    "    print('Longest Palindrome:', longest_palindrome)\n",
    "else:\n",
    "    print('No Palindrome Found')"
   ]
  },
  {
   "cell_type": "markdown",
   "id": "06629c03",
   "metadata": {},
   "source": [
    "**Finding  Repeating elements in an Array**"
   ]
  },
  {
   "cell_type": "code",
   "execution_count": null,
   "id": "018fa0db",
   "metadata": {},
   "outputs": [],
   "source": [
    "inpArray=[]\n",
    "freq_dict={}\n",
    "for i in range (0,10):\n",
    "    num=int(input(f\"Enter Value : {i+1} \"))\n",
    "    inpArray.append(num)\n",
    "    \n",
    "    if num in freq_dict:\n",
    "        freq_dict[num]+=1\n",
    "    else:\n",
    "        freq_dict[num]=1\n",
    "print('The Array : ',inpArray)\n",
    "for num,freq in freq_dict.items():\n",
    "    if freq!=1:\n",
    "        print(f\"{num}:{freq}\")"
   ]
  },
  {
   "cell_type": "markdown",
   "id": "1a46552c",
   "metadata": {},
   "source": [
    "**Finding Non Repeating elements in an Array**"
   ]
  },
  {
   "cell_type": "code",
   "execution_count": null,
   "id": "d363129f",
   "metadata": {},
   "outputs": [],
   "source": [
    "inpArray=[]\n",
    "freq_dict={}\n",
    "for i in range (0,10):\n",
    "    num=int(input(f\"Enter Value : {i+1} \"))\n",
    "    inpArray.append(num)\n",
    "    \n",
    "    if num in freq_dict:\n",
    "        freq_dict[num]+=1\n",
    "    else:\n",
    "        freq_dict[num]=1\n",
    "print('The Array : ',inpArray)\n",
    "for num,freq in freq_dict.items():\n",
    "    if freq==1:\n",
    "        print(f\"{num}\")"
   ]
  },
  {
   "cell_type": "markdown",
   "id": "8c736752",
   "metadata": {},
   "source": [
    "**Removing Duplicate elements from an array**"
   ]
  },
  {
   "cell_type": "code",
   "execution_count": null,
   "id": "eb9e4c2f",
   "metadata": {},
   "outputs": [],
   "source": [
    "inpArray=[]\n",
    "freq_dict={}\n",
    "uniqueArr=[]\n",
    "for i in range (0,10):\n",
    "    num=int(input(f\"Enter Value : {i+1} \"))\n",
    "    inpArray.append(num)\n",
    "    \n",
    "    if num in freq_dict:\n",
    "        freq_dict[num]+=1\n",
    "    else:\n",
    "        freq_dict[num]=1\n",
    "print('The Array : ',inpArray)\n",
    "for num,freq in freq_dict.items():\n",
    "    if freq==1:\n",
    "        uniqueArr.append(num)"
   ]
  },
  {
   "cell_type": "code",
   "execution_count": null,
   "id": "d7048705",
   "metadata": {},
   "outputs": [],
   "source": [
    "print(uniqueArr)"
   ]
  },
  {
   "cell_type": "markdown",
   "id": "59ef5056",
   "metadata": {},
   "source": []
  },
  {
   "cell_type": "markdown",
   "id": "389cafbd",
   "metadata": {},
   "source": [
    "**String Slicing**"
   ]
  },
  {
   "cell_type": "code",
   "execution_count": 16,
   "id": "ac83e465",
   "metadata": {},
   "outputs": [
    {
     "name": "stdout",
     "output_type": "stream",
     "text": [
      "URL 1 : https://google.\n",
      "URL 2 : hts/gol.\n",
      "URL 3 : oog//:\n",
      "URL 4 : .elgoog//:sptth\n"
     ]
    }
   ],
   "source": [
    "site3='https://google.fc.com'\n",
    "url1=site3[0:15:1]\n",
    "url2=site3[0:15:2]\n",
    "url3=site3[10:4:-1]\n",
    "url4=site3[14::-1]\n",
    "print('URL 1 :',url1)\n",
    "print('URL 2 :',url2)\n",
    "print('URL 3 :',url3)\n",
    "print('URL 4 :',url4)"
   ]
  },
  {
   "cell_type": "code",
   "execution_count": 1,
   "id": "0a43c1c1",
   "metadata": {},
   "outputs": [
    {
     "name": "stdout",
     "output_type": "stream",
     "text": [
      "/anish.de\n",
      "/google.fc\n"
     ]
    }
   ],
   "source": [
    "site1='https://anish.de.com'\n",
    "site2='https://google.fc.com'\n",
    "slice1=slice(7,-4)\n",
    "print(site1[slice1])\n",
    "print(site2[slice1])"
   ]
  },
  {
   "cell_type": "code",
   "execution_count": 20,
   "id": "ef8016e1",
   "metadata": {
    "scrolled": true
   },
   "outputs": [
    {
     "name": "stdout",
     "output_type": "stream",
     "text": [
      "/google.f\n"
     ]
    }
   ],
   "source": [
    "site3='https://google.fc.com'\n",
    "slice2=slice(7,-5) # from 7 from front, -5 from last\n",
    "print(site3[slice2])"
   ]
  },
  {
   "cell_type": "code",
   "execution_count": 32,
   "id": "5640b592",
   "metadata": {
    "scrolled": true
   },
   "outputs": [
    {
     "data": {
      "text/plain": [
       "'/google.fc.com'"
      ]
     },
     "execution_count": 32,
     "metadata": {},
     "output_type": "execute_result"
    }
   ],
   "source": [
    "site3[slice(7,24)] # from 7 to 24"
   ]
  },
  {
   "cell_type": "markdown",
   "id": "4409ba7c",
   "metadata": {},
   "source": [
    "**While Loop**"
   ]
  },
  {
   "cell_type": "code",
   "execution_count": 47,
   "id": "4caa1ca4",
   "metadata": {},
   "outputs": [
    {
     "name": "stdout",
     "output_type": "stream",
     "text": [
      "5 , 4 , 3 , 2 , 1 , "
     ]
    }
   ],
   "source": [
    "i=5\n",
    "while i>=1:\n",
    "    print(i,',',end=' ')\n",
    "    i=i-1"
   ]
  },
  {
   "cell_type": "code",
   "execution_count": 48,
   "id": "28495b56",
   "metadata": {},
   "outputs": [
    {
     "name": "stdout",
     "output_type": "stream",
     "text": [
      "Enter your name : \n",
      "Enter your name : Anish\n",
      "Hello Anish\n"
     ]
    }
   ],
   "source": [
    "name=''\n",
    "while len(name)==0:\n",
    "    name=input(\"Enter your name : \")\n",
    "print('Hello',name)"
   ]
  },
  {
   "cell_type": "code",
   "execution_count": 49,
   "id": "00e89798",
   "metadata": {},
   "outputs": [
    {
     "name": "stdout",
     "output_type": "stream",
     "text": [
      "Enter your name : \n",
      "Enter your name : Anish\n",
      "Hello Anish\n"
     ]
    }
   ],
   "source": [
    "name=None\n",
    "while not name:\n",
    "    name=input(\"Enter your name : \")\n",
    "print('Hello',name)"
   ]
  },
  {
   "cell_type": "markdown",
   "id": "3a3a8720",
   "metadata": {},
   "source": [
    "**For Loop**"
   ]
  },
  {
   "cell_type": "code",
   "execution_count": 63,
   "id": "7574b113",
   "metadata": {},
   "outputs": [
    {
     "name": "stdout",
     "output_type": "stream",
     "text": [
      "1 , 2 , 3 , 4 , 5 , 6 , 7 , 8 , 9 , 10 , "
     ]
    }
   ],
   "source": [
    "import time\n",
    "for i in range (10): # for i in range (50,71):\n",
    "    print(i+1,',',end=' ')   "
   ]
  },
  {
   "cell_type": "code",
   "execution_count": 66,
   "id": "dcef76f1",
   "metadata": {
    "scrolled": true
   },
   "outputs": [
    {
     "name": "stdout",
     "output_type": "stream",
     "text": [
      "h , t , t , p , s , : , / , / , g , o , o , g , l , e , . , c , o , m , "
     ]
    }
   ],
   "source": [
    "for i in 'https://google.com':\n",
    "    print(i,',',end=' ')"
   ]
  },
  {
   "cell_type": "code",
   "execution_count": 70,
   "id": "e5af6a3a",
   "metadata": {
    "scrolled": true
   },
   "outputs": [
    {
     "name": "stdout",
     "output_type": "stream",
     "text": [
      "10 9 8 7 6 5 4 3 2 1 Happy New Year✨\n"
     ]
    }
   ],
   "source": [
    "for seconds in range(10,0,-1):\n",
    "    print(seconds,'',end='')\n",
    "    time.sleep(1)\n",
    "print(\"Happy New Year✨\")"
   ]
  },
  {
   "cell_type": "code",
   "execution_count": 80,
   "id": "699b6199",
   "metadata": {},
   "outputs": [
    {
     "name": "stdout",
     "output_type": "stream",
     "text": [
      "\n",
      "*\n",
      "**\n",
      "***\n",
      "****\n",
      "****\n",
      "****\n",
      "****\n",
      "****\n",
      "****\n",
      "***\n",
      "**\n",
      "*\n"
     ]
    }
   ],
   "source": [
    "for i in range (5):\n",
    "    for j in range (i):\n",
    "        print('*',end='')\n",
    "    print('')\n",
    "\n",
    "for i in range (4):\n",
    "    for j in range (4):\n",
    "        print('*',end='')\n",
    "    print('')\n",
    "    \n",
    "for i in range (4,0,-1):\n",
    "    for j in range (i):\n",
    "        print('*',end='')\n",
    "    print('')"
   ]
  },
  {
   "cell_type": "code",
   "execution_count": 82,
   "id": "57e90dc1",
   "metadata": {},
   "outputs": [
    {
     "name": "stdout",
     "output_type": "stream",
     "text": [
      "Enter your name : \n",
      "Enter your name : Anish\n"
     ]
    }
   ],
   "source": [
    "#use of break continue & pass\n",
    "while True:\n",
    "    name=input(\"Enter your name : \")\n",
    "    if name!='': # exits when input given\n",
    "        break"
   ]
  },
  {
   "cell_type": "code",
   "execution_count": 83,
   "id": "255869c7",
   "metadata": {},
   "outputs": [
    {
     "name": "stdout",
     "output_type": "stream",
     "text": [
      "78956512332"
     ]
    }
   ],
   "source": [
    "phone='789-565-123-32'\n",
    "for i in phone:\n",
    "    if i=='-':\n",
    "        continue # skips to the next iteration\n",
    "    print(i,end='')"
   ]
  },
  {
   "cell_type": "code",
   "execution_count": 91,
   "id": "1ca8c00d",
   "metadata": {
    "scrolled": true
   },
   "outputs": [
    {
     "name": "stdout",
     "output_type": "stream",
     "text": [
      "1 ,2 ,3 ,4 ,5 ,6 ,7 ,8 ,9 ,10 ,11 ,12 ,14 ,15 ,16 ,17 ,18 ,19 ,20 ,\n",
      "-------------------------------------------------------------\n",
      "1 ,2 ,3 ,4 ,5 ,6 ,7 ,8 ,9 ,10 ,11 ,12 ,14 ,15 ,16 ,17 ,18 ,19 ,20 ,"
     ]
    }
   ],
   "source": [
    "for i in range (1,21):\n",
    "    if i==13:\n",
    "        continue # skips to the next iteration\n",
    "    print(i,',',end='')\n",
    "print('\\n-------------------------------------------------------------')\n",
    "for i in range (1,21):\n",
    "    if i==13:\n",
    "        pass # skips to the next iteration\n",
    "    else:\n",
    "        print(i,',',end='')"
   ]
  },
  {
   "cell_type": "markdown",
   "id": "81e7d307",
   "metadata": {},
   "source": [
    "**List**"
   ]
  },
  {
   "cell_type": "code",
   "execution_count": 11,
   "id": "7f7a929d",
   "metadata": {
    "scrolled": true
   },
   "outputs": [
    {
     "name": "stdout",
     "output_type": "stream",
     "text": [
      "pizza\n",
      "mango\n",
      "['pizza', 'mango', 'taco', 'chips']\n",
      "pizza\n",
      "mango\n",
      "taco\n",
      "chips\n"
     ]
    }
   ],
   "source": [
    "food = ['pizza','mango','taco','chips']\n",
    "print(food[0])\n",
    "print(food[1])\n",
    "print(food)\n",
    "for i in food:\n",
    "    print(i)\n",
    "# food1 = {'pizza','mango','taco','chips'} Array"
   ]
  },
  {
   "cell_type": "code",
   "execution_count": 12,
   "id": "e1964847",
   "metadata": {},
   "outputs": [
    {
     "name": "stdout",
     "output_type": "stream",
     "text": [
      "['pizza', 'mango', 'taco', 'chips', 'ice cream']\n",
      "['pizza', 'taco', 'chips', 'ice cream']\n",
      "['pizza', 'taco', 'chips']\n",
      "['cake', 'pizza', 'taco', 'chips']\n"
     ]
    }
   ],
   "source": [
    "food.append(\"ice cream\")\n",
    "print(food)\n",
    "food.remove(\"mango\")\n",
    "print(food)\n",
    "food.pop() # remove last element\n",
    "print(food)\n",
    "food.insert(0,'cake')\n",
    "print(food)"
   ]
  },
  {
   "cell_type": "code",
   "execution_count": 18,
   "id": "35314e0e",
   "metadata": {},
   "outputs": [
    {
     "name": "stdout",
     "output_type": "stream",
     "text": [
      "['cake', 'chips', 'pizza', 'taco']\n"
     ]
    },
    {
     "data": {
      "text/plain": [
       "1"
      ]
     },
     "execution_count": 18,
     "metadata": {},
     "output_type": "execute_result"
    }
   ],
   "source": [
    "food.sort()\n",
    "print(food)\n",
    "food.count('chips') # returns occurences"
   ]
  },
  {
   "cell_type": "code",
   "execution_count": 22,
   "id": "4b34e94b",
   "metadata": {},
   "outputs": [
    {
     "name": "stdout",
     "output_type": "stream",
     "text": [
      "['carrot', 'broccoli', 'spinach', 'tomato']\n",
      "spinach\n",
      "chips\n"
     ]
    }
   ],
   "source": [
    "fruits = [\"apple\", \"banana\", \"orange\", \"strawberry\"]\n",
    "veggie = [\"carrot\", \"broccoli\", \"spinach\", \"tomato\"]\n",
    "snacks = [\"chips\", \"popcorn\", \"pretzels\", \"cookies\"]\n",
    "food=[fruits,veggie,snacks]\n",
    "print(food[1])\n",
    "print(food[1][2])\n",
    "print(food[2][0])"
   ]
  },
  {
   "cell_type": "markdown",
   "id": "f234f040",
   "metadata": {},
   "source": [
    "**Tuple**"
   ]
  },
  {
   "cell_type": "code",
   "execution_count": 28,
   "id": "989ba416",
   "metadata": {},
   "outputs": [
    {
     "name": "stdout",
     "output_type": "stream",
     "text": [
      "('Anish', 21, 'Male', 'anish@mail.com')\n",
      "Male\n",
      "Anish\n",
      "21\n",
      "Male\n",
      "anish@mail.com\n",
      "Anish is here\n"
     ]
    }
   ],
   "source": [
    "student=('Anish',21,'Male','anish@mail.com')\n",
    "print(student)\n",
    "print(student[2])\n",
    "for i in student:\n",
    "    print(i)\n",
    "    \n",
    "if 'Anish' in student:\n",
    "    print('Anish is here')"
   ]
  },
  {
   "cell_type": "markdown",
   "id": "a1c67dfc",
   "metadata": {},
   "source": [
    "**Sets**"
   ]
  },
  {
   "cell_type": "code",
   "execution_count": 33,
   "id": "f4aaae1c",
   "metadata": {
    "scrolled": true
   },
   "outputs": [
    {
     "name": "stdout",
     "output_type": "stream",
     "text": [
      "glass\n",
      "spork\n",
      "knife\n",
      "juicer\n",
      "spoon\n",
      "fork\n",
      "bowl\n",
      "cup\n"
     ]
    }
   ],
   "source": [
    "utensils={'fork','spoon','spork','bowl','juicer','knife','glass'}\n",
    "# no proper arrangement\n",
    "utensils.add('cup')\n",
    "for x in utensils:\n",
    "    print(x)"
   ]
  },
  {
   "cell_type": "code",
   "execution_count": 34,
   "id": "388ad51f",
   "metadata": {},
   "outputs": [
    {
     "data": {
      "text/plain": [
       "{'bowl',\n",
       " 'coaster',\n",
       " 'cup',\n",
       " 'dish',\n",
       " 'fork',\n",
       " 'glass',\n",
       " 'juicer',\n",
       " 'knife',\n",
       " 'plate',\n",
       " 'spoon',\n",
       " 'spork'}"
      ]
     },
     "execution_count": 34,
     "metadata": {},
     "output_type": "execute_result"
    }
   ],
   "source": [
    "dishes={'bowl','plate','dish','cup','coaster'}\n",
    "dishes.update(utensils)\n",
    "dishes"
   ]
  },
  {
   "cell_type": "code",
   "execution_count": 35,
   "id": "7df9c0b6",
   "metadata": {},
   "outputs": [
    {
     "name": "stdout",
     "output_type": "stream",
     "text": [
      "{'glass', 'plate', 'juicer', 'spoon', 'dish', 'bowl', 'spork', 'knife', 'cup', 'coaster', 'fork'}\n"
     ]
    }
   ],
   "source": [
    "dishes1={'bowl','plate','dish','cup','coaster'}\n",
    "dinner_table=dishes1.union(utensils)\n",
    "print(dinner_table)"
   ]
  },
  {
   "cell_type": "code",
   "execution_count": 36,
   "id": "ef834e87",
   "metadata": {},
   "outputs": [
    {
     "name": "stdout",
     "output_type": "stream",
     "text": [
      "{'glass', 'spoon', 'juicer', 'spork', 'knife', 'fork'}\n"
     ]
    }
   ],
   "source": [
    "print(utensils.difference(dishes1)) # what utensils have unique"
   ]
  },
  {
   "cell_type": "code",
   "execution_count": 37,
   "id": "dd6f5a7c",
   "metadata": {
    "scrolled": true
   },
   "outputs": [
    {
     "name": "stdout",
     "output_type": "stream",
     "text": [
      "{'bowl', 'cup'}\n"
     ]
    }
   ],
   "source": [
    "print(utensils.intersection(dishes1)) # what utensils have common"
   ]
  },
  {
   "cell_type": "markdown",
   "id": "d5c0c00e",
   "metadata": {},
   "source": [
    "**Dictionaries**"
   ]
  },
  {
   "cell_type": "code",
   "execution_count": 53,
   "id": "7b07a038",
   "metadata": {},
   "outputs": [
    {
     "name": "stdout",
     "output_type": "stream",
     "text": [
      "{'USA': 'Washington', 'India': 'New Delhi', 'Australia': 'Canberra', 'Russia': 'Moscova', 'North Korea': 'Pyongyang'}\n",
      "Russia : Moscova\n",
      "dict_keys(['USA', 'India', 'Australia', 'Russia', 'North Korea'])\n",
      "dict_values(['Washington', 'New Delhi', 'Canberra', 'Moscova', 'Pyongyang'])\n",
      "dict_items([('USA', 'Washington'), ('India', 'New Delhi'), ('Australia', 'Canberra'), ('Russia', 'Moscova'), ('North Korea', 'Pyongyang')])\n",
      "---------------------------------------\n",
      "USA : Washington\n",
      "India : New Delhi\n",
      "Australia : Canberra\n",
      "Russia : Moscova\n",
      "North Korea : Pyongyang\n"
     ]
    }
   ],
   "source": [
    "capitals={'USA':'Washington','India':'New Delhi','Australia':'Canberra',\n",
    "         'Russia':'Moscova','North Korea':'Pyongyang'}\n",
    "print(capitals)\n",
    "print('Russia :',capitals['Russia'])\n",
    "print(capitals.keys())\n",
    "print(capitals.values())\n",
    "print(capitals.items())\n",
    "print('---------------------------------------')\n",
    "for key,value in capitals.items():\n",
    "    print(key,':',value)"
   ]
  },
  {
   "cell_type": "code",
   "execution_count": 55,
   "id": "052c85ab",
   "metadata": {
    "scrolled": true
   },
   "outputs": [
    {
     "name": "stdout",
     "output_type": "stream",
     "text": [
      "USA : Las Vegas\n",
      "India : New Delhi\n",
      "Australia : Canberra\n",
      "Russia : Moscova\n",
      "North Korea : Pyongyang\n",
      "Germany : Berlin\n"
     ]
    }
   ],
   "source": [
    "capitals.update({'Germany':'Berlin'})\n",
    "capitals.update({'USA':'Las Vegas'})\n",
    "for key,value in capitals.items():\n",
    "    print(key,':',value)"
   ]
  },
  {
   "cell_type": "markdown",
   "id": "bb70bca1",
   "metadata": {},
   "source": [
    "**Index Operator**"
   ]
  },
  {
   "cell_type": "code",
   "execution_count": 72,
   "id": "a827b1f1",
   "metadata": {},
   "outputs": [
    {
     "name": "stdout",
     "output_type": "stream",
     "text": [
      "G\n",
      "o\n",
      "First Name : Google\n",
      "Last Name :  moxilla\n",
      "Last Name : a\n"
     ]
    }
   ],
   "source": [
    "name=\"Google Moxilla\"\n",
    "print(name[3].capitalize())\n",
    "print(name[2].lower())\n",
    "print('First Name :',name[0:6].capitalize())\n",
    "print('Last Name :',name[6:].lower())\n",
    "print('Last Name :',name[-1])"
   ]
  },
  {
   "cell_type": "markdown",
   "id": "03400221",
   "metadata": {},
   "source": [
    "**Function**"
   ]
  },
  {
   "cell_type": "code",
   "execution_count": 85,
   "id": "d7003353",
   "metadata": {},
   "outputs": [
    {
     "name": "stdout",
     "output_type": "stream",
     "text": [
      "No Repeat Code 1 ✅\n",
      "No Repeat Code 2 ✅\n",
      "No Repeat Code 3 ✅\n",
      "No Repeat Code 4 ✅\n",
      "No Repeat Code 5 ✅\n"
     ]
    }
   ],
   "source": [
    "def function(i):\n",
    "    print(f\"No Repeat Code {i} ✅\")\n",
    "for i in range(1,6):\n",
    "    function(i)"
   ]
  },
  {
   "cell_type": "markdown",
   "id": "aa24a405",
   "metadata": {},
   "source": [
    "***Args & Kwargs**"
   ]
  },
  {
   "cell_type": "code",
   "execution_count": 89,
   "id": "5b5977e3",
   "metadata": {},
   "outputs": [
    {
     "name": "stdout",
     "output_type": "stream",
     "text": [
      "1️⃣ 7\n",
      "------\n",
      "2️⃣ 28\n"
     ]
    }
   ],
   "source": [
    "def add(num1,num2):\n",
    "    sum=num1+num2\n",
    "    return sum\n",
    "print('1️⃣',add(1,6))\n",
    "\n",
    "print('------')\n",
    "\n",
    "def add(*args): # any number of arguements\n",
    "    sum=0\n",
    "    for i in args:\n",
    "        sum+=i\n",
    "    return sum\n",
    "print('2️⃣',add(1,2,3,4,5,6,7))"
   ]
  },
  {
   "cell_type": "code",
   "execution_count": 103,
   "id": "e322fd62",
   "metadata": {},
   "outputs": [
    {
     "name": "stdout",
     "output_type": "stream",
     "text": [
      "Hello  Mr. Oyee  ABC Bro Shut_Up "
     ]
    }
   ],
   "source": [
    "def hello(**kwargs):\n",
    "    #print(\"Hello\",kwargs['first'],kwargs['last'])\n",
    "    print('Hello ',end=' ')\n",
    "    for key,values in kwargs.items():\n",
    "        print(values,end=' ')\n",
    "    \n",
    "hello(title='Mr.',one='Oyee ',first=\"ABC\",middle='Bro',last='Shut_Up')\n"
   ]
  },
  {
   "cell_type": "markdown",
   "id": "4d175590",
   "metadata": {},
   "source": [
    "**Format**"
   ]
  },
  {
   "cell_type": "code",
   "execution_count": 113,
   "id": "888b2e65",
   "metadata": {},
   "outputs": [
    {
     "name": "stdout",
     "output_type": "stream",
     "text": [
      "1️⃣ The cow jumped over the moon\n",
      "2️⃣ The Germand Shepherd jumped over the White House\n",
      "3️⃣ The dog jumped over the tree\n",
      "3️⃣ The cow jumped over the meow\n"
     ]
    }
   ],
   "source": [
    "name='The cow jumped over the moon'\n",
    "ani='Germand Shepherd'\n",
    "itez='White House'\n",
    "animal=['cow','cat','dog','elephant']\n",
    "item=['car','tree','moon']\n",
    "print('1️⃣',name)\n",
    "print(f'2️⃣ The {ani} jumped over the {itez}')\n",
    "print(f'3️⃣ The {animal[2]} jumped over the {item[1]}')\n",
    "print('3️⃣ The {aniz} jumped over the {itex}'.format(aniz='cow',itex='meow'))"
   ]
  },
  {
   "cell_type": "code",
   "execution_count": 114,
   "id": "996ff1ae",
   "metadata": {},
   "outputs": [
    {
     "name": "stdout",
     "output_type": "stream",
     "text": [
      "The number is Comma Separated 10,005\n",
      "The number is Binary 10011100010101\n",
      "The number is Octal 23425\n",
      "The number is Hex 2715\n",
      "The number is Scientific Not. 1.000500E+04\n"
     ]
    }
   ],
   "source": [
    "number=10005\n",
    "print('The number is Comma Separated {:,}'.format(number))\n",
    "print('The number is Binary {:b}'.format(number))\n",
    "print('The number is Octal {:o}'.format(number))\n",
    "print('The number is Hex {:X}'.format(number))\n",
    "print('The number is Scientific Not. {:E}'.format(number))"
   ]
  },
  {
   "cell_type": "markdown",
   "id": "a9923be7",
   "metadata": {},
   "source": [
    "**Random**"
   ]
  },
  {
   "cell_type": "code",
   "execution_count": 116,
   "id": "08ece17c",
   "metadata": {},
   "outputs": [
    {
     "name": "stdout",
     "output_type": "stream",
     "text": [
      "1 8 3 3 6 10 9 2 2 "
     ]
    }
   ],
   "source": [
    "import random\n",
    "for i in range (1,10):\n",
    "    print(random.randint(1,10),end=' ')"
   ]
  },
  {
   "cell_type": "code",
   "execution_count": 121,
   "id": "8801257a",
   "metadata": {
    "scrolled": true
   },
   "outputs": [
    {
     "name": "stdout",
     "output_type": "stream",
     "text": [
      "rock, scissor, scissor, rock, paper, rock, paper, paper, rock, "
     ]
    }
   ],
   "source": [
    "choiceList=['rock','paper','scissor']\n",
    "for i in range (1,10):\n",
    "    print(random.choice(choiceList),end=', ')"
   ]
  },
  {
   "cell_type": "code",
   "execution_count": 123,
   "id": "8531f34d",
   "metadata": {
    "scrolled": true
   },
   "outputs": [
    {
     "name": "stdout",
     "output_type": "stream",
     "text": [
      "[2, 'Q', 6, 'K', 'A', 7, 5, 4, 'J', 1, 9, 3, 8]\n"
     ]
    }
   ],
   "source": [
    "cards=[1,2,3,4,5,6,7,8,9,'J','Q','K','A']\n",
    "random.shuffle(cards)\n",
    "print(cards)"
   ]
  },
  {
   "cell_type": "markdown",
   "id": "06cce0d5",
   "metadata": {},
   "source": [
    "**Exception**"
   ]
  },
  {
   "cell_type": "code",
   "execution_count": 136,
   "id": "e263ac71",
   "metadata": {
    "scrolled": true
   },
   "outputs": [
    {
     "name": "stdout",
     "output_type": "stream",
     "text": [
      "Enter A : 5\n",
      "Enter B : x\n",
      "invalid literal for int() with base 10: 'x'\n",
      "Valuation Error\n"
     ]
    }
   ],
   "source": [
    "try:\n",
    "    numerator=int(input('Enter A : '))\n",
    "    denominator=int(input('Enter B : '))\n",
    "    print('-------------------------')\n",
    "    result=numerator/denominator\n",
    "except ZeroDivisionError as e:\n",
    "    print(e)\n",
    "    print(\"Cant Divide by Zero\")\n",
    "except ValueError as e:\n",
    "    print(e)\n",
    "    print(\"Valuation Error\")\n",
    "except Exception:\n",
    "    print(e)\n",
    "    print('404 Error Not Found')\n",
    "else:\n",
    "    print(result)"
   ]
  },
  {
   "cell_type": "markdown",
   "id": "2814de5d",
   "metadata": {},
   "source": [
    "**OS** File access"
   ]
  },
  {
   "cell_type": "code",
   "execution_count": 152,
   "id": "98cbb595",
   "metadata": {},
   "outputs": [
    {
     "name": "stdout",
     "output_type": "stream",
     "text": [
      "Double Happy Happy Happy \n",
      " But not so happyNot very Happy Happy Happy \n",
      " But again not so happy\n",
      "True\n"
     ]
    }
   ],
   "source": [
    "import os\n",
    "with open('happy.txt') as file:\n",
    "    print(file.read())\n",
    "print(file.closed)"
   ]
  },
  {
   "cell_type": "code",
   "execution_count": 150,
   "id": "8fe27236",
   "metadata": {},
   "outputs": [
    {
     "name": "stdout",
     "output_type": "stream",
     "text": [
      "Double Happy Happy Happy \n",
      " But not so happy\n"
     ]
    }
   ],
   "source": [
    "try:\n",
    "    with open('happy.txt') as file:\n",
    "        print(file.read())\n",
    "except FileNotFoundError:\n",
    "    print('File not Found')"
   ]
  },
  {
   "cell_type": "code",
   "execution_count": 149,
   "id": "5528a794",
   "metadata": {},
   "outputs": [],
   "source": [
    "text='Double Happy Happy Happy \\n But not so happy'\n",
    "with open('happy.txt','w') as file:\n",
    "    file.write(text)"
   ]
  },
  {
   "cell_type": "code",
   "execution_count": 151,
   "id": "c6195366",
   "metadata": {},
   "outputs": [],
   "source": [
    "text='Not very Happy Happy Happy \\n But again not so happy'\n",
    "with open('happy.txt','a') as file:\n",
    "    file.write(text)"
   ]
  },
  {
   "cell_type": "code",
   "execution_count": 156,
   "id": "28a8d78f",
   "metadata": {
    "collapsed": true
   },
   "outputs": [
    {
     "data": {
      "text/plain": [
       "'copy2.txt'"
      ]
     },
     "execution_count": 156,
     "metadata": {},
     "output_type": "execute_result"
    }
   ],
   "source": [
    "shutil.copyfile('happy.txt','copy2.txt')"
   ]
  },
  {
   "cell_type": "code",
   "execution_count": 157,
   "id": "88fbd426",
   "metadata": {},
   "outputs": [],
   "source": [
    "os.remove('copy2.txt')"
   ]
  },
  {
   "cell_type": "code",
   "execution_count": 161,
   "id": "a826ec57",
   "metadata": {},
   "outputs": [
    {
     "name": "stdout",
     "output_type": "stream",
     "text": [
      "File Not Found\n"
     ]
    }
   ],
   "source": [
    "try:\n",
    "    with open('copy2.txt') as file:\n",
    "        print(file.read())\n",
    "except FileNotFoundError:\n",
    "    print('File Not Found')"
   ]
  },
  {
   "cell_type": "markdown",
   "id": "c4f12c73",
   "metadata": {},
   "source": [
    "**SHUTIL** Used for copying files"
   ]
  },
  {
   "cell_type": "code",
   "execution_count": 154,
   "id": "39f4e7cb",
   "metadata": {
    "scrolled": true
   },
   "outputs": [
    {
     "data": {
      "text/plain": [
       "'copy.txt'"
      ]
     },
     "execution_count": 154,
     "metadata": {},
     "output_type": "execute_result"
    }
   ],
   "source": [
    "import shutil\n",
    "shutil.copyfile('happy.txt','copy.txt')"
   ]
  },
  {
   "cell_type": "code",
   "execution_count": 155,
   "id": "304173fc",
   "metadata": {
    "scrolled": false
   },
   "outputs": [
    {
     "name": "stdout",
     "output_type": "stream",
     "text": [
      "Double Happy Happy Happy \n",
      " But not so happyNot very Happy Happy Happy \n",
      " But again not so happy\n"
     ]
    }
   ],
   "source": [
    "with open('copy.txt') as file:\n",
    "        print(file.read())"
   ]
  },
  {
   "cell_type": "markdown",
   "id": "5a79258d",
   "metadata": {},
   "source": [
    "**MODULES**"
   ]
  },
  {
   "cell_type": "code",
   "execution_count": 3,
   "id": "52d045af",
   "metadata": {},
   "outputs": [],
   "source": [
    "import warnings\n",
    "warnings.filterwarnings(action='ignore')"
   ]
  },
  {
   "cell_type": "code",
   "execution_count": null,
   "id": "3db51d25",
   "metadata": {},
   "outputs": [
    {
     "name": "stdout",
     "output_type": "stream",
     "text": [
      "\n",
      "Please wait a moment while I gather a list of all available modules...\n",
      "\n"
     ]
    }
   ],
   "source": [
    "help('modules')"
   ]
  },
  {
   "cell_type": "markdown",
   "id": "70582027",
   "metadata": {},
   "source": [
    "**Rock Paper Scissor**"
   ]
  },
  {
   "cell_type": "code",
   "execution_count": 15,
   "id": "4ef1dbbc",
   "metadata": {},
   "outputs": [
    {
     "name": "stdout",
     "output_type": "stream",
     "text": [
      " Stone, paper or scissor: paper\n",
      "Computer chose: stone\n",
      "Player chose: paper\n",
      "Player wins!\n",
      "----------------\n",
      "Play again? (yes/no): yes\n",
      " Stone, paper or scissor: stone\n",
      "Computer chose: paper\n",
      "Player chose: stone\n",
      "Computer wins!\n",
      "----------------\n",
      "Play again? (yes/no): yes\n",
      " Stone, paper or scissor: paper\n",
      "Computer chose: paper\n",
      "Player chose: paper\n",
      "It's a tie!\n",
      "----------------\n",
      "Play again? (yes/no): scissor\n",
      "--------------------------------------\n",
      "Player Score :  2\n",
      "Computer Score :  2\n"
     ]
    }
   ],
   "source": [
    "import random\n",
    "\n",
    "playerScore=0\n",
    "compScore=0\n",
    "while True:\n",
    "    choices=['stone','paper','scissor']\n",
    "    computer=random.choice(choices)\n",
    "    player=None\n",
    "    \n",
    "    while player not in choices:\n",
    "        player = input(\" Stone, paper or scissor: \").lower()\n",
    "\n",
    "        if player not in choices:\n",
    "            print('Not in the list of choices. Try again.')\n",
    "    \n",
    "    print(f\"Computer chose: {computer}\")\n",
    "    print(f\"Player chose: {player}\")\n",
    "\n",
    "    if player == computer:\n",
    "        print(\"It's a tie!\")\n",
    "        print('----------------')\n",
    "        compScore+=1\n",
    "        playerScore+=1\n",
    "    elif (\n",
    "        (player == \"stone\" and computer == \"scissor\")\n",
    "        or (player == \"scissor\" and computer == \"paper\")\n",
    "        or (player == \"paper\" and computer == \"stone\")\n",
    "    ):\n",
    "        print(\"Player wins!\")\n",
    "        print('----------------')\n",
    "        playerScore+=1\n",
    "    else:\n",
    "        print(\"Computer wins!\")\n",
    "        print('----------------')\n",
    "        compScore+=1\n",
    "    play_again = input(\"Play again? (yes/no): \").lower()\n",
    "    if play_again != \"yes\":\n",
    "        break\n",
    "\n",
    "print('--------------------------------------')\n",
    "print('Player Score : ',playerScore)\n",
    "print('Computer Score : ',compScore)"
   ]
  },
  {
   "cell_type": "markdown",
   "id": "769bec18",
   "metadata": {},
   "source": [
    "**OBJECT ORIENTED PROGRAMMING**"
   ]
  },
  {
   "cell_type": "markdown",
   "id": "11a6f2b0",
   "metadata": {},
   "source": [
    "_CREATING CLASS_"
   ]
  },
  {
   "cell_type": "code",
   "execution_count": 14,
   "id": "2b921456",
   "metadata": {},
   "outputs": [
    {
     "name": "stdout",
     "output_type": "stream",
     "text": [
      "Make: BMW Model: I8 Year: 2018 Color: Messy Blue\n",
      "This Camry is driving\n",
      "This Mustang is stopped\n"
     ]
    }
   ],
   "source": [
    "class Car:\n",
    "    def __init__(self, make, model, year, color):\n",
    "        self.make = make\n",
    "        self.model = model\n",
    "        self.year = year\n",
    "        self.color = color\n",
    "\n",
    "    def drive(self):\n",
    "        print('This',self.model,'is driving')\n",
    "\n",
    "    def stop(self):\n",
    "        print('This',self.model,'is stopped')\n",
    "\n",
    "car1 = Car(\"BMW\", 'I8', 2018, 'Messy Blue')\n",
    "car2 = Car(\"Toyota\", 'Camry', 2020, 'Silver')\n",
    "car3 = Car(\"Ford\", 'Mustang', 2019, 'Red')\n",
    "\n",
    "print('Make:', car1.make, 'Model:', car1.model, 'Year:', car1.year, 'Color:', car1.color)\n",
    "\n",
    "car2.drive()\n",
    "car3.stop()"
   ]
  },
  {
   "cell_type": "markdown",
   "id": "3a54c043",
   "metadata": {},
   "source": [
    "_INHERITANCE_"
   ]
  },
  {
   "cell_type": "code",
   "execution_count": 25,
   "id": "3b8db51a",
   "metadata": {},
   "outputs": [
    {
     "name": "stdout",
     "output_type": "stream",
     "text": [
      "The Rabbit is running\n",
      "The Fish is swimming\n",
      "The Fish is swimming\n"
     ]
    }
   ],
   "source": [
    "class Animal:\n",
    "    alive=True\n",
    "    def eat(self):\n",
    "        print('This animal is eating')\n",
    "    \n",
    "    def sleep(self):\n",
    "        print('This animal is sleeping')\n",
    "    \n",
    "class Rabbit(Animal):\n",
    "    def run(self):\n",
    "        print('The Rabbit is running')\n",
    "    \n",
    "class Fish(Animal):\n",
    "    def swim(self):\n",
    "        print('The Fish is swimming')\n",
    "\n",
    "class Hawk(Animal):\n",
    "    def fly(self):\n",
    "        print('The Fish is swimming')\n",
    "\n",
    "rabbit=Rabbit()\n",
    "fish=Fish()\n",
    "hawk=Hawk()\n",
    "\n",
    "rabbit.run()\n",
    "fish.swim()\n",
    "hawk.fly()"
   ]
  },
  {
   "cell_type": "markdown",
   "id": "084a2f50",
   "metadata": {},
   "source": [
    "_MULTI LEVEL INHERITANCE_"
   ]
  },
  {
   "cell_type": "code",
   "execution_count": 28,
   "id": "2fe74bdb",
   "metadata": {},
   "outputs": [
    {
     "name": "stdout",
     "output_type": "stream",
     "text": [
      "True\n",
      "This animal is eating\n",
      "This dog is barking\n"
     ]
    }
   ],
   "source": [
    "class Organism:\n",
    "    alive=True\n",
    "    \n",
    "class Animal(Organism):\n",
    "    def eat(self):\n",
    "        print('This animal is eating')\n",
    "\n",
    "class Dog(Animal):\n",
    "    def bark(self):\n",
    "        print('This dog is barking')\n",
    "\n",
    "dog=Dog()\n",
    "print(dog.alive)\n",
    "dog.eat()\n",
    "dog.bark()"
   ]
  },
  {
   "cell_type": "markdown",
   "id": "c1d78ac0",
   "metadata": {},
   "source": [
    "_MULTIPLE INHERITANCE_"
   ]
  },
  {
   "cell_type": "code",
   "execution_count": 29,
   "id": "3e2d44ac",
   "metadata": {
    "scrolled": true
   },
   "outputs": [
    {
     "name": "stdout",
     "output_type": "stream",
     "text": [
      "This animal flees\n",
      "This animal Hunts\n",
      "This animal flees\n",
      "This animal Hunts\n"
     ]
    }
   ],
   "source": [
    "class Prey:\n",
    "    def flee(self):\n",
    "        print('This animal flees')\n",
    "\n",
    "class Predator:\n",
    "    def hunt(self):\n",
    "        print('This animal Hunts')\n",
    "\n",
    "class Rabbit(Prey):\n",
    "    pass\n",
    "\n",
    "class Hawk(Predator):\n",
    "    pass\n",
    "\n",
    "class Fish(Prey,Predator):\n",
    "    pass\n",
    "\n",
    "rabbit=Rabbit()\n",
    "hawk=Hawk()\n",
    "fish=Fish()\n",
    "\n",
    "rabbit.flee()\n",
    "hawk.hunt()\n",
    "fish.flee()\n",
    "fish.hunt()"
   ]
  },
  {
   "cell_type": "markdown",
   "id": "d3d04bd6",
   "metadata": {},
   "source": [
    "_METHOD OVERRIDING_"
   ]
  },
  {
   "cell_type": "code",
   "execution_count": 35,
   "id": "75f5eea0",
   "metadata": {},
   "outputs": [
    {
     "name": "stdout",
     "output_type": "stream",
     "text": [
      "This Rabbit is eating a carrot\n",
      "This Piranha eats humans\n"
     ]
    },
    {
     "data": {
      "text/plain": [
       "\" SAME PURPOSE :\\nfish.name = 'Piranha'\\nfish.eat()\\n\""
      ]
     },
     "execution_count": 35,
     "metadata": {},
     "output_type": "execute_result"
    }
   ],
   "source": [
    "class Animal:\n",
    "    def eat(self):\n",
    "        print('This animal is eating')\n",
    "    \n",
    "class Rabbit(Animal):\n",
    "    def eat(self):\n",
    "        print('This Rabbit is eating a carrot')\n",
    "\n",
    "class Fish(Animal):\n",
    "    name='Piranha'\n",
    "    def eat(self):\n",
    "        print(f'This {self.name} eats humans')\n",
    "    \n",
    "rabbit=Rabbit()\n",
    "rabbit.eat()\n",
    "fish=Fish()\n",
    "fish.eat()\n",
    "\n",
    "''' SAME PURPOSE :\n",
    "fish.name = 'Piranha'\n",
    "fish.eat()\n",
    "'''"
   ]
  },
  {
   "cell_type": "markdown",
   "id": "ded70034",
   "metadata": {},
   "source": [
    "_METHOD CHAINING_"
   ]
  },
  {
   "cell_type": "code",
   "execution_count": 40,
   "id": "17922d4d",
   "metadata": {},
   "outputs": [
    {
     "name": "stdout",
     "output_type": "stream",
     "text": [
      "Start the engine\n",
      "Start driving the Car\n",
      "Step on the brakes\n",
      "Turn off the Engine\n"
     ]
    },
    {
     "data": {
      "text/plain": [
       "<__main__.Car2 at 0x2338f6c16a0>"
      ]
     },
     "execution_count": 40,
     "metadata": {},
     "output_type": "execute_result"
    }
   ],
   "source": [
    "class Car2:\n",
    "    def turnOn(self):\n",
    "        print('Start the engine')\n",
    "        return self\n",
    "        \n",
    "    def drive(self):\n",
    "        print('Start driving the Car')\n",
    "        return self\n",
    "    \n",
    "    def brake(self):\n",
    "        print('Step on the brakes')\n",
    "        return self\n",
    "    \n",
    "    def turnOff(self):\n",
    "        print('Turn off the Engine')\n",
    "        return self\n",
    "\n",
    "car=Car2()\n",
    "\n",
    "''' TRADITIONAL METHOD\n",
    "car.brake()\n",
    "car.drive()\n",
    "car.turnOn()\n",
    "car.turnOff'''\n",
    "\n",
    "#car.turnOn().drive()\n",
    "#car.brake().turnOff()\n",
    "\n",
    "car.turnOn().drive().brake().turnOff()"
   ]
  },
  {
   "cell_type": "markdown",
   "id": "39f404b1",
   "metadata": {},
   "source": [
    "***_To make the chain much more Readable and Understandable we write in the following_***\n",
    "<div style=\"background-color: #f0f0f0; padding: 10px; border: 1px solid #ccc; border-radius: 5px;\">\n",
    "    <code style=\"font-weight: bold; color: #0074D9;\">\n",
    "        car.turn_on()\\\n",
    "            .drive()\\\n",
    "            .brake()\\\n",
    "            .turn_off()\n",
    "    </code>\n",
    "</div>"
   ]
  },
  {
   "cell_type": "markdown",
   "id": "7a9b559a",
   "metadata": {},
   "source": [
    "**SUPER() Function**"
   ]
  },
  {
   "cell_type": "markdown",
   "id": "6623584d",
   "metadata": {},
   "source": [
    "_Traditional Method_"
   ]
  },
  {
   "cell_type": "code",
   "execution_count": 45,
   "id": "9fa3a779",
   "metadata": {
    "scrolled": true
   },
   "outputs": [
    {
     "name": "stdout",
     "output_type": "stream",
     "text": [
      "Area : 15\n",
      "Volume is Null\n",
      "--------------------\n",
      "Area : 62\n",
      "Volume : 30\n"
     ]
    }
   ],
   "source": [
    "class Rectangle:\n",
    "    pass\n",
    "\n",
    "class square(Rectangle):\n",
    "    def __init__(self,length,width):\n",
    "        self.length=length\n",
    "        self.width=width\n",
    "        print('Area :',self.length*self.width)\n",
    "        print('Volume is Null')\n",
    "    \n",
    "class cuboid(Rectangle):\n",
    "    def __init__(self,length,width,height):\n",
    "        self.length=length\n",
    "        self.width=width\n",
    "        self.height=height\n",
    "        print('Area :',2*(self.length*self.width+self.width*self.height+self.length*self.height))\n",
    "        print('Volume :',self.height*self.length*self.width)\n",
    "\n",
    "square=square(3,5)\n",
    "print('--------------------')\n",
    "cuboid=cuboid(3,5,2)"
   ]
  },
  {
   "cell_type": "markdown",
   "id": "fe067003",
   "metadata": {},
   "source": [
    "_Using Super() Function_"
   ]
  },
  {
   "cell_type": "code",
   "execution_count": 51,
   "id": "7f12962a",
   "metadata": {
    "scrolled": true
   },
   "outputs": [
    {
     "name": "stdout",
     "output_type": "stream",
     "text": [
      "Square Area: 9\n",
      "Cuboid Volume: 30\n"
     ]
    }
   ],
   "source": [
    "class Rectangle:\n",
    "    def __init__(self, length, width):\n",
    "        self.length = length\n",
    "        self.width = width\n",
    "\n",
    "class Square(Rectangle):\n",
    "    def __init__(self, side_length):\n",
    "        super().__init__(side_length, side_length)\n",
    "        \n",
    "    def area(self):\n",
    "        return self.length * self.width\n",
    "\n",
    "class Cuboid(Rectangle):\n",
    "    def __init__(self, length, width, height):\n",
    "        super().__init__(length, width)\n",
    "        self.height = height\n",
    "        \n",
    "    def volume(self):\n",
    "        return self.height * self.length * self.width\n",
    "\n",
    "# Create instances of Square and Cuboid\n",
    "square = Square(3)\n",
    "cuboid = Cuboid(2, 5, 3)\n",
    "\n",
    "print('Square Area:', square.area()) \n",
    "print('Cuboid Volume:', cuboid.volume())  "
   ]
  },
  {
   "cell_type": "markdown",
   "id": "1d9e09e7",
   "metadata": {},
   "source": [
    "**ABSTRACT Class**"
   ]
  },
  {
   "cell_type": "code",
   "execution_count": 7,
   "id": "27983298",
   "metadata": {},
   "outputs": [
    {
     "name": "stdout",
     "output_type": "stream",
     "text": [
      "Drive the Car\n",
      "Drive the Bike\n",
      "---------------\n",
      "Stop the Car\n",
      "Stop the Bike\n"
     ]
    }
   ],
   "source": [
    "from abc import ABC, abstractmethod\n",
    "\n",
    "class Vehicle(ABC):\n",
    "    @abstractmethod\n",
    "    def go(self):\n",
    "        pass\n",
    "    @abstractmethod\n",
    "    def stop(self):\n",
    "        pass\n",
    "class Car(Vehicle):\n",
    "    def go(self):\n",
    "        print(\"Drive the Car\")\n",
    "    def stop(self):\n",
    "        print(\"Stop the Car\")\n",
    "class Bike(Vehicle):\n",
    "    def go(self):\n",
    "        print(\"Drive the Bike\")\n",
    "    def stop(self):\n",
    "        print(\"Stop the Bike\")\n",
    "#vehicle = Vehicle()\n",
    "car = Car()\n",
    "bike = Bike()\n",
    "\n",
    "#vehicle.go()\n",
    "car.go()\n",
    "bike.go()\n",
    "print('---------------')\n",
    "car.stop()\n",
    "bike.stop()"
   ]
  },
  {
   "cell_type": "markdown",
   "id": "e5921d46",
   "metadata": {},
   "source": [
    "**OBJECTS**"
   ]
  },
  {
   "cell_type": "code",
   "execution_count": 14,
   "id": "de62cfa2",
   "metadata": {},
   "outputs": [
    {
     "name": "stdout",
     "output_type": "stream",
     "text": [
      "None\n",
      "None\n",
      "None\n",
      "---------------\n",
      "BMW Red\n",
      "Blue\n",
      "Green\n"
     ]
    }
   ],
   "source": [
    "class Car:\n",
    "    color = None\n",
    "def change_color(car,color):\n",
    "    car.color=color\n",
    "car1=Car()\n",
    "car2=Car()\n",
    "car3=Car()\n",
    "\n",
    "print(car1.color)\n",
    "print(car2.color)\n",
    "print(car3.color)\n",
    "print('---------------')\n",
    "change_color(car1,'Red')\n",
    "change_color(car2,'Blue')\n",
    "change_color(car3,'Green')\n",
    "print(\"BMW\",car1.color)\n",
    "print(car2.color)\n",
    "print(car3.color)"
   ]
  },
  {
   "cell_type": "code",
   "execution_count": 19,
   "id": "de9c88d9",
   "metadata": {
    "scrolled": true
   },
   "outputs": [
    {
     "name": "stdout",
     "output_type": "stream",
     "text": [
      "This duck is walking\n",
      "This duck is quacking\n",
      "Caught the Gutter\n",
      "-----------------\n",
      "This chicken is walking\n",
      "This chicken is clucking\n",
      "Caught the Gutter\n"
     ]
    }
   ],
   "source": [
    "class Duck:\n",
    "    def walk(self):\n",
    "        print (\"This duck is walking\")\n",
    "    def talk(self):\n",
    "        print (\"This duck is quacking\")\n",
    "class Chicken:\n",
    "    def walk(se1f):\n",
    "        print (\"This chicken is walking\")\n",
    "    def talk(se1f):\n",
    "        print (\"This chicken is clucking\")\n",
    "class Person():\n",
    "    def catch(se1f,duck):\n",
    "        duck.walk()\n",
    "        duck.talk()\n",
    "        print (\"Caught the Gutter\")\n",
    "duck=Duck()\n",
    "chicken=Chicken()\n",
    "person=Person()\n",
    "person.catch(duck)\n",
    "print('-----------------')\n",
    "person.catch(chicken)"
   ]
  },
  {
   "cell_type": "markdown",
   "id": "90bb371a",
   "metadata": {},
   "source": [
    "**Walrus Operator `:=`**"
   ]
  },
  {
   "cell_type": "code",
   "execution_count": 2,
   "id": "9d2e6858",
   "metadata": {},
   "outputs": [
    {
     "name": "stdout",
     "output_type": "stream",
     "text": [
      "What food do you like : Biryani\n",
      "What food do you like : Chaap\n",
      "What food do you like : Ice Cream\n",
      "What food do you like : Shawarma\n",
      "What food do you like : quit\n",
      "['Biryani', 'Chaap', 'Ice Cream', 'Shawarma']\n"
     ]
    }
   ],
   "source": [
    "# Traditional Way\n",
    "foods = list()\n",
    "while True:\n",
    "    food = input(\"What food do you like : \")\n",
    "    if food == 'quit':\n",
    "        break\n",
    "    foods.append(food)\n",
    "print(foods)"
   ]
  },
  {
   "cell_type": "code",
   "execution_count": 5,
   "id": "7dabfdcf",
   "metadata": {
    "scrolled": true
   },
   "outputs": [
    {
     "name": "stdout",
     "output_type": "stream",
     "text": [
      "What food do you like :Apple\n",
      "What food do you like :Peach\n",
      "What food do you like :Guava\n",
      "What food do you like :quit\n",
      "['Apple', 'Peach', 'Guava']\n"
     ]
    }
   ],
   "source": [
    "# Walrus Way\n",
    "foods1 = list()\n",
    "while (food := input(\"What food do you like :\"))!='quit':\n",
    "        foods1.append(food)\n",
    "print(foods1)"
   ]
  },
  {
   "cell_type": "markdown",
   "id": "ea568e7c",
   "metadata": {},
   "source": [
    "**Function to Variables**"
   ]
  },
  {
   "cell_type": "code",
   "execution_count": 12,
   "id": "dcfa10de",
   "metadata": {
    "scrolled": true
   },
   "outputs": [
    {
     "name": "stdout",
     "output_type": "stream",
     "text": [
      "<function hello at 0x0000019C0E1EAF70>\n",
      "Hello\n",
      "<function hello at 0x0000019C0E1EAF70>\n",
      "Hello\n"
     ]
    }
   ],
   "source": [
    "def hello():\n",
    "    print(\"Hello\")\n",
    "print(hello)\n",
    "hello()\n",
    "hi = hello\n",
    "print(hi)\n",
    "hi()"
   ]
  },
  {
   "cell_type": "code",
   "execution_count": 14,
   "id": "ad031389",
   "metadata": {
    "scrolled": true
   },
   "outputs": [
    {
     "name": "stdout",
     "output_type": "stream",
     "text": [
      "Say is now Print Function 💀\n"
     ]
    }
   ],
   "source": [
    "say = print\n",
    "say(\"Say is now Print Function 💀\")"
   ]
  },
  {
   "cell_type": "markdown",
   "id": "851e7d34",
   "metadata": {},
   "source": [
    "**Function Hierarchy**"
   ]
  },
  {
   "cell_type": "code",
   "execution_count": 18,
   "id": "15cb4142",
   "metadata": {},
   "outputs": [
    {
     "name": "stdout",
     "output_type": "stream",
     "text": [
      "5.0\n"
     ]
    }
   ],
   "source": [
    "def divisor(x):\n",
    "    def dividend(y):\n",
    "        return y/x\n",
    "    return dividend\n",
    "divide = divisor(2)\n",
    "print(divide(10))"
   ]
  },
  {
   "cell_type": "markdown",
   "id": "ad73f14b",
   "metadata": {},
   "source": [
    "**Lambda Function**"
   ]
  },
  {
   "cell_type": "code",
   "execution_count": 1,
   "id": "a9ee3e7a",
   "metadata": {},
   "outputs": [
    {
     "name": "stdout",
     "output_type": "stream",
     "text": [
      "10\n"
     ]
    }
   ],
   "source": [
    "def double(x):\n",
    "    return x*2\n",
    "print(double(5))"
   ]
  },
  {
   "cell_type": "code",
   "execution_count": 2,
   "id": "77974196",
   "metadata": {
    "scrolled": true
   },
   "outputs": [
    {
     "name": "stdout",
     "output_type": "stream",
     "text": [
      "10\n"
     ]
    }
   ],
   "source": [
    "double = lambda x: x*2\n",
    "print(double(5))"
   ]
  },
  {
   "cell_type": "code",
   "execution_count": 3,
   "id": "344ad686",
   "metadata": {},
   "outputs": [
    {
     "name": "stdout",
     "output_type": "stream",
     "text": [
      "10\n",
      "10\n"
     ]
    }
   ],
   "source": [
    "double = lambda x: x*2\n",
    "multiply = lambda x,y: x*y\n",
    "print(double(5))\n",
    "print(multiply(2,5))"
   ]
  },
  {
   "cell_type": "code",
   "execution_count": 4,
   "id": "c50ed0ea",
   "metadata": {
    "scrolled": true
   },
   "outputs": [
    {
     "name": "stdout",
     "output_type": "stream",
     "text": [
      "Henry + Oswald\n"
     ]
    }
   ],
   "source": [
    "name = lambda fname,lname : fname+\" + \"+lname\n",
    "print(name('Henry','Oswald'))"
   ]
  },
  {
   "cell_type": "code",
   "execution_count": 8,
   "id": "ce3d1197",
   "metadata": {},
   "outputs": [
    {
     "name": "stdout",
     "output_type": "stream",
     "text": [
      "False\n",
      "True\n"
     ]
    }
   ],
   "source": [
    "ageCheck = lambda age : True if age>=18 else False\n",
    "print(ageCheck(16))\n",
    "print(ageCheck(26))"
   ]
  },
  {
   "cell_type": "markdown",
   "id": "6b2fbb24",
   "metadata": {},
   "source": [
    "**SORT**"
   ]
  },
  {
   "cell_type": "code",
   "execution_count": 15,
   "id": "039ca6a4",
   "metadata": {},
   "outputs": [
    {
     "name": "stdout",
     "output_type": "stream",
     "text": [
      "['Weenie', 'Oswald', 'Madame Butterfly', 'Johnny Snowman', 'Henry', 'Daisy']\n"
     ]
    }
   ],
   "source": [
    "names = [\"Oswald\",\"Weenie\",\"Henry\",\"Daisy\",\"Madame Butterfly\",\"Johnny Snowman\"]\n",
    "names.sort(reverse=True) # only works with lists\n",
    "print(names)"
   ]
  },
  {
   "cell_type": "code",
   "execution_count": 18,
   "id": "7af52070",
   "metadata": {},
   "outputs": [
    {
     "name": "stdout",
     "output_type": "stream",
     "text": [
      "['Daisy', 'Henry', 'Johnny Snowman', 'Madame Butterfly', 'Oswald', 'Weenie']\n"
     ]
    }
   ],
   "source": [
    "names = (\"Oswald\",\"Weenie\",\"Henry\",\"Daisy\",\"Madame Butterfly\",\"Johnny Snowman\")\n",
    "namesSorted = sorted(names, reverse=False)\n",
    "print(namesSorted)"
   ]
  },
  {
   "cell_type": "code",
   "execution_count": 20,
   "id": "1a82826b",
   "metadata": {
    "scrolled": true
   },
   "outputs": [
    {
     "data": {
      "text/plain": [
       "[('Alice', 'A', 101),\n",
       " ('Bob', 'F', 102),\n",
       " ('Charlie', 'B', 103),\n",
       " ('David', 'C', 104),\n",
       " ('Eva', 'B', 105)]"
      ]
     },
     "execution_count": 20,
     "metadata": {},
     "output_type": "execute_result"
    }
   ],
   "source": [
    "students = [\n",
    "    (\"Alice\", 'A', 101),\n",
    "    (\"Bob\", 'F', 102),\n",
    "    (\"Charlie\",'B', 103),\n",
    "    (\"David\",'C', 104),\n",
    "    (\"Eva\",'B', 105)]\n",
    "students.sort() # sorting by first column\n",
    "students"
   ]
  },
  {
   "cell_type": "code",
   "execution_count": 25,
   "id": "bb94a3ab",
   "metadata": {},
   "outputs": [
    {
     "data": {
      "text/plain": [
       "[('Alice', 'A', 101),\n",
       " ('Charlie', 'B', 103),\n",
       " ('Eva', 'B', 105),\n",
       " ('David', 'C', 104),\n",
       " ('Bob', 'F', 102)]"
      ]
     },
     "execution_count": 25,
     "metadata": {},
     "output_type": "execute_result"
    }
   ],
   "source": [
    "students = [\n",
    "    (\"Alice\", 'A', 101),\n",
    "    (\"Bob\", 'F', 102),\n",
    "    (\"Charlie\",'B', 103),\n",
    "    (\"David\",'C', 104),\n",
    "    (\"Eva\",'B', 105)]\n",
    "grade = lambda grades:grades[1]\n",
    "students.sort(key=grade)  # reverse=True\n",
    "students"
   ]
  },
  {
   "cell_type": "code",
   "execution_count": 26,
   "id": "0f720a31",
   "metadata": {},
   "outputs": [
    {
     "data": {
      "text/plain": [
       "[('Eva', 'B', 105),\n",
       " ('David', 'C', 104),\n",
       " ('Charlie', 'B', 103),\n",
       " ('Bob', 'F', 102),\n",
       " ('Alice', 'A', 101)]"
      ]
     },
     "execution_count": 26,
     "metadata": {},
     "output_type": "execute_result"
    }
   ],
   "source": [
    "students = [\n",
    "    (\"Alice\", 'A', 101),\n",
    "    (\"Bob\", 'F', 102),\n",
    "    (\"Charlie\",'B', 103),\n",
    "    (\"David\",'C', 104),\n",
    "    (\"Eva\",'B', 105)]\n",
    "age = lambda ages:ages[2]\n",
    "students.sort(key=age,reverse=True)\n",
    "students"
   ]
  },
  {
   "cell_type": "markdown",
   "id": "c93ea785",
   "metadata": {},
   "source": [
    "**Map()**"
   ]
  },
  {
   "cell_type": "code",
   "execution_count": 31,
   "id": "d3069b10",
   "metadata": {},
   "outputs": [
    {
     "name": "stdout",
     "output_type": "stream",
     "text": [
      "[('shirt', 1600), ('tshirt', 1200), ('pants', 2800), ('jacket', 4400), ('hoodie', 2800)]\n"
     ]
    }
   ],
   "source": [
    "# map(function, iterable)\n",
    "store = [(\"shirt\",20),(\"tshirt\",15),(\"pants\",35),(\"jacket\",55),(\"hoodie\",35)]\n",
    "toRupees = lambda data: (data[0],data[1]*80) # represent index for prices\n",
    "storeRupx = list(map(toRupees, store))\n",
    "print(storeRupx)"
   ]
  },
  {
   "cell_type": "markdown",
   "id": "79d775c9",
   "metadata": {},
   "source": [
    "**Filter() Circuit**"
   ]
  },
  {
   "cell_type": "code",
   "execution_count": 34,
   "id": "53e58540",
   "metadata": {},
   "outputs": [
    {
     "name": "stdout",
     "output_type": "stream",
     "text": [
      "[('Bob', 21), ('Charlie', 25), ('Eva', 36)]\n"
     ]
    }
   ],
   "source": [
    "students = [\n",
    "    (\"Alice\", 16),\n",
    "    (\"Bob\", 21),\n",
    "    (\"Charlie\", 25),\n",
    "    (\"David\", 17),\n",
    "    (\"Eva\", 36)]\n",
    "age = lambda data:data[1]>=18\n",
    "drinkers = list(filter(age,students))\n",
    "print(drinkers)"
   ]
  },
  {
   "cell_type": "markdown",
   "id": "e569b36c",
   "metadata": {},
   "source": [
    "**FuncTools : Reduce Function**"
   ]
  },
  {
   "cell_type": "code",
   "execution_count": 35,
   "id": "ee59809c",
   "metadata": {},
   "outputs": [
    {
     "name": "stdout",
     "output_type": "stream",
     "text": [
      "HELLO\n"
     ]
    }
   ],
   "source": [
    "import functools\n",
    "letters = ['H','E','L','L','O']\n",
    "word = functools.reduce(lambda x,y: x+y,letters )\n",
    "print(word)"
   ]
  },
  {
   "cell_type": "code",
   "execution_count": 36,
   "id": "d953785c",
   "metadata": {},
   "outputs": [
    {
     "name": "stdout",
     "output_type": "stream",
     "text": [
      "120\n"
     ]
    }
   ],
   "source": [
    "factorial=[5,4,3,2,1]\n",
    "result=functools.reduce(lambda x,y:x*y,factorial)\n",
    "print(result)"
   ]
  },
  {
   "cell_type": "markdown",
   "id": "3feaaa1a",
   "metadata": {},
   "source": [
    "**Dictionary comprehension**"
   ]
  },
  {
   "cell_type": "code",
   "execution_count": 37,
   "id": "c2325a20",
   "metadata": {},
   "outputs": [
    {
     "name": "stdout",
     "output_type": "stream",
     "text": [
      "{'New York': 'WARM', 'Los Angeles': 'WARM', 'London': 'COLD', 'Tokyo': 'WARM', 'Sydney': 'WARM'}\n"
     ]
    }
   ],
   "source": [
    "cities = {\n",
    "    \"New York\": 72,\n",
    "    \"Los Angeles\": 78,\n",
    "    \"London\": 65,\n",
    "    \"Tokyo\": 85,\n",
    "    \"Sydney\": 70\n",
    "}\n",
    "\n",
    "descCities = {key:(\"WARM\" if value>=70 else \"COLD\") for (key,value) in cities.items()}\n",
    "print(descCities)"
   ]
  },
  {
   "cell_type": "code",
   "execution_count": 38,
   "id": "b6fe4f43",
   "metadata": {},
   "outputs": [
    {
     "name": "stdout",
     "output_type": "stream",
     "text": [
      "{'New York': 'WARM', 'Los Angeles': 'WARM', 'London': 'COLD', 'Tokyo': 'WARM', 'Sydney': 'WARM'}\n"
     ]
    }
   ],
   "source": [
    "cities = {\n",
    "    \"New York\": 72,\n",
    "    \"Los Angeles\": 78,\n",
    "    \"London\": 65,\n",
    "    \"Tokyo\": 85,\n",
    "    \"Sydney\": 70\n",
    "}\n",
    "\n",
    "def checkTemp(value):\n",
    "    if value>=70:\n",
    "        return \"WARM\"\n",
    "    else:\n",
    "        return \"COLD\"\n",
    "descCities = {key: checkTemp(value) for (key,value) in cities.items()}\n",
    "print(descCities)"
   ]
  },
  {
   "cell_type": "markdown",
   "id": "91c606d1",
   "metadata": {},
   "source": [
    "**Zip Function()**"
   ]
  },
  {
   "cell_type": "code",
   "execution_count": 48,
   "id": "cb7d62f2",
   "metadata": {
    "scrolled": true
   },
   "outputs": [
    {
     "name": "stdout",
     "output_type": "stream",
     "text": [
      "<class 'zip'>\n",
      "('user1', 'pwd123')\n",
      "('user2', 'pwd234')\n",
      "('user3', 'pwd345')\n",
      "-----------------------\n",
      "<class 'list'>\n",
      "user1 : pwd123\n",
      "user2 : pwd234\n",
      "user3 : pwd345\n",
      "-----------------------\n",
      "<class 'dict'>\n",
      "user1 : pwd123\n",
      "user2 : pwd234\n",
      "user3 : pwd345\n"
     ]
    }
   ],
   "source": [
    "usernames = [\"user1\",\"user2\",\"user3\"]\n",
    "passwords = [\"pwd123\",'pwd234','pwd345']\n",
    "users = zip(usernames, passwords)\n",
    "print(type(users))\n",
    "for i in users:\n",
    "    print (i)\n",
    "    \n",
    "print('-----------------------')\n",
    "users2 = list(zip(usernames, passwords))\n",
    "print(type(users2))\n",
    "for key,value in users2:\n",
    "    print(key,':',value)\n",
    "    \n",
    "print('-----------------------')\n",
    "users3 = dict(zip(usernames, passwords))\n",
    "print(type(users3))\n",
    "for key,value in users3.items():\n",
    "    print(key,':',value)"
   ]
  },
  {
   "cell_type": "markdown",
   "id": "6655a60f",
   "metadata": {},
   "source": [
    "**Threading Applix**"
   ]
  },
  {
   "cell_type": "code",
   "execution_count": 22,
   "id": "76796c94",
   "metadata": {
    "scrolled": true
   },
   "outputs": [
    {
     "name": "stdout",
     "output_type": "stream",
     "text": [
      "Eat Breakfast\n",
      "Drink Coffee\n",
      "Now Study\n",
      "Elapsed Time: 12.02 seconds\n",
      "-----------------------\n",
      "Active Count :  6\n",
      "[<_MainThread(MainThread, started 24972)>, <Thread(IOPub, started daemon 14652)>, <Heartbeat(Heartbeat, started daemon 21512)>, <ControlThread(Control, started daemon 23716)>, <HistorySavingThread(IPythonHistorySavingThread, started 28368)>, <ParentPollerWindows(Thread-4, started daemon 23476)>]\n"
     ]
    }
   ],
   "source": [
    "import threading\n",
    "import time\n",
    "\n",
    "start_time = time.time()\n",
    "\n",
    "def eat_breakfast():\n",
    "    time.sleep(3)\n",
    "    print('Eat Breakfast')\n",
    "def drink_coffee():\n",
    "    time.sleep(4)\n",
    "    print('Drink Coffee')\n",
    "def study():\n",
    "    time.sleep(5)\n",
    "    print('Now Study')\n",
    "    \n",
    "eat_breakfast()\n",
    "drink_coffee()\n",
    "study()\n",
    "\n",
    "end_time = time.time()\n",
    "elapsed_time = end_time - start_time\n",
    "print(f\"Elapsed Time: {elapsed_time:.2f} seconds\")\n",
    "\n",
    "print('-----------------------')\n",
    "print('Active Count : ',threading.active_count())\n",
    "print(threading.enumerate())\n",
    "\n",
    "# takes approx 12secs to execute"
   ]
  },
  {
   "cell_type": "code",
   "execution_count": 21,
   "id": "a65f377b",
   "metadata": {
    "scrolled": true
   },
   "outputs": [
    {
     "name": "stdout",
     "output_type": "stream",
     "text": [
      "Eat Breakfast\n",
      "Drink Coffee\n",
      "Now Study\n",
      "-----------------------------\n",
      "Active Count :  6\n",
      "[<_MainThread(MainThread, started 24972)>, <Thread(IOPub, started daemon 14652)>, <Heartbeat(Heartbeat, started daemon 21512)>, <ControlThread(Control, started daemon 23716)>, <HistorySavingThread(IPythonHistorySavingThread, started 28368)>, <ParentPollerWindows(Thread-4, started daemon 23476)>]\n",
      "Time :  19.700053385 secs\n",
      "-----------------------------\n"
     ]
    }
   ],
   "source": [
    "x = threading.Thread(target=eat_breakfast,args=())\n",
    "x.start()\n",
    "y = threading.Thread(target=drink_coffee,args=())\n",
    "y.start()\n",
    "z = threading.Thread(target=study,args=())\n",
    "z.start()\n",
    "\n",
    "x.join()\n",
    "y.join()\n",
    "z.join()\n",
    "\n",
    "print('-----------------------------')\n",
    "print('Active Count : ',threading.active_count())\n",
    "print(threading.enumerate())\n",
    "print('Time : ',time.perf_counter()/100,'secs')\n",
    "print('-----------------------------')"
   ]
  },
  {
   "cell_type": "markdown",
   "id": "3e881a29",
   "metadata": {},
   "source": [
    "**Daemon Thread**"
   ]
  },
  {
   "cell_type": "code",
   "execution_count": 2,
   "id": "d639d5cb",
   "metadata": {},
   "outputs": [
    {
     "name": "stdout",
     "output_type": "stream",
     "text": [
      "Daemon thread is running...\n",
      "Daemon thread is running...\n",
      "Daemon thread is running...\n",
      "Main thread is working...\n",
      "Daemon thread is running...\n",
      "Daemon thread is running...\n",
      "Daemon thread is running...\n",
      "Daemon thread is running...\n",
      "Main thread is working...\n",
      "Daemon thread is running...\n",
      "Daemon thread is running...\n",
      "Daemon thread is running...\n",
      "Daemon thread is running...\n",
      "Main thread is working...\n",
      "Daemon thread is running...\n",
      "Daemon thread is running...\n",
      "Daemon thread is running...\n",
      "Daemon thread is running...\n",
      "Main thread is working...\n",
      "Daemon thread is running...\n",
      "Daemon thread is running...\n",
      "Daemon thread is running...\n",
      "Daemon thread is running...\n",
      "Main thread is working...\n",
      "Main thread exiting. Daemon thread will be terminated automatically.\n",
      "Daemon thread is running...\n",
      "Daemon thread is running...\n",
      "Daemon thread is running...\n",
      "Daemon thread is running...\n",
      "Daemon thread is running...\n",
      "Daemon thread is running...\n"
     ]
    }
   ],
   "source": [
    "import threading\n",
    "import time\n",
    "\n",
    "def daemon_example():\n",
    "    while True:\n",
    "        time.sleep(1)\n",
    "        print(\"Daemon thread is running...\")\n",
    "\n",
    "daemon_thread = threading.Thread(target=daemon_example, daemon=True)\n",
    "daemon_thread.start()\n",
    "\n",
    "# Main thread continues its work\n",
    "for _ in range(5):\n",
    "    time.sleep(2)\n",
    "    print(\"Main thread is working...\")\n",
    "\n",
    "print(\"Main thread exiting. Daemon thread will be terminated automatically.\")"
   ]
  }
 ],
 "metadata": {
  "kernelspec": {
   "display_name": "Python 3 (ipykernel)",
   "language": "python",
   "name": "python3"
  },
  "language_info": {
   "codemirror_mode": {
    "name": "ipython",
    "version": 3
   },
   "file_extension": ".py",
   "mimetype": "text/x-python",
   "name": "python",
   "nbconvert_exporter": "python",
   "pygments_lexer": "ipython3",
   "version": "3.9.5"
  }
 },
 "nbformat": 4,
 "nbformat_minor": 5
}
